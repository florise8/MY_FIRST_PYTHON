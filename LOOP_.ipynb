{
  "nbformat": 4,
  "nbformat_minor": 0,
  "metadata": {
    "colab": {
      "provenance": [],
      "authorship_tag": "ABX9TyOQAMtnPmsyXSWIlw1Lmle4",
      "include_colab_link": true
    },
    "kernelspec": {
      "name": "python3",
      "display_name": "Python 3"
    },
    "language_info": {
      "name": "python"
    }
  },
  "cells": [
    {
      "cell_type": "markdown",
      "metadata": {
        "id": "view-in-github",
        "colab_type": "text"
      },
      "source": [
        "<a href=\"https://colab.research.google.com/github/florise8/MY_FIRST_PYTHON/blob/main/LOOP_.ipynb\" target=\"_parent\"><img src=\"https://colab.research.google.com/assets/colab-badge.svg\" alt=\"Open In Colab\"/></a>"
      ]
    },
    {
      "cell_type": "markdown",
      "source": [
        "LOOPS\n",
        "* FOR\n",
        "* While"
      ],
      "metadata": {
        "id": "4mugwOryP-hq"
      }
    },
    {
      "cell_type": "code",
      "source": [
        "number = [1, 2, 3, 4, 5, 6]\n",
        "for i in number:\n",
        "    print(i * 3)\n"
      ],
      "metadata": {
        "colab": {
          "base_uri": "https://localhost:8080/"
        },
        "collapsed": true,
        "id": "twnYef0rQD_j",
        "outputId": "3175d001-c4ab-420d-b498-793590cb63d7"
      },
      "execution_count": null,
      "outputs": [
        {
          "output_type": "stream",
          "name": "stdout",
          "text": [
            "3\n",
            "6\n",
            "9\n",
            "12\n",
            "15\n",
            "18\n"
          ]
        }
      ]
    },
    {
      "cell_type": "code",
      "source": [
        "students = ['lola', 'Oge', 'Kufre', 'Florence', 'Grace', 'David', 'Rejoice']\n",
        "for j in students:\n",
        "    print(f'{j} you are are welcome to Flaxwardens class, feel free to ask questions')"
      ],
      "metadata": {
        "colab": {
          "base_uri": "https://localhost:8080/"
        },
        "collapsed": true,
        "id": "v6lvMNoERH1o",
        "outputId": "18190be4-470e-427b-c3c8-9b29ae1b4436"
      },
      "execution_count": null,
      "outputs": [
        {
          "output_type": "stream",
          "name": "stdout",
          "text": [
            "lola you are are welcome to Flaxwardens class, feel free to ask questions\n",
            "Oge you are are welcome to Flaxwardens class, feel free to ask questions\n",
            "Kufre you are are welcome to Flaxwardens class, feel free to ask questions\n",
            "Florence you are are welcome to Flaxwardens class, feel free to ask questions\n",
            "Grace you are are welcome to Flaxwardens class, feel free to ask questions\n",
            "David you are are welcome to Flaxwardens class, feel free to ask questions\n",
            "Rejoice you are are welcome to Flaxwardens class, feel free to ask questions\n"
          ]
        }
      ]
    },
    {
      "cell_type": "code",
      "source": [
        "# For loop in numbers\n",
        "for i in range(100, 1001, 25): # for range 100 is the start, 1001 is the stop, 25 is the step\n",
        " if i % 2 == 0:\n",
        "    print(i)"
      ],
      "metadata": {
        "colab": {
          "base_uri": "https://localhost:8080/"
        },
        "collapsed": true,
        "id": "uax9uRIvTFix",
        "outputId": "125ed21b-9cc2-4229-b5fa-d686ad3c4ff4"
      },
      "execution_count": null,
      "outputs": [
        {
          "output_type": "stream",
          "name": "stdout",
          "text": [
            "100\n",
            "150\n",
            "200\n",
            "250\n",
            "300\n",
            "350\n",
            "400\n",
            "450\n",
            "500\n",
            "550\n",
            "600\n",
            "650\n",
            "700\n",
            "750\n",
            "800\n",
            "850\n",
            "900\n",
            "950\n",
            "1000\n"
          ]
        }
      ]
    },
    {
      "cell_type": "code",
      "source": [
        "# For loop in Strings\n",
        "fruits = ['Mango', 'Banana', 'Orange', 'Pawpaw', 'Apple']\n",
        "for i in fruits:\n",
        "    print(i)"
      ],
      "metadata": {
        "colab": {
          "base_uri": "https://localhost:8080/"
        },
        "collapsed": true,
        "id": "xyjjltTYUs5l",
        "outputId": "e376de73-abf0-4af2-b0b6-12907bcbff5b"
      },
      "execution_count": null,
      "outputs": [
        {
          "output_type": "stream",
          "name": "stdout",
          "text": [
            "Mango\n",
            "Banana\n",
            "Orange\n",
            "Pawpaw\n",
            "Apple\n"
          ]
        }
      ]
    },
    {
      "cell_type": "code",
      "source": [
        "fruits = ['mango'] # for loops\n",
        "for i in fruits:\n",
        "    print(i)"
      ],
      "metadata": {
        "colab": {
          "base_uri": "https://localhost:8080/"
        },
        "id": "3D1e-9mMVA88",
        "outputId": "3c8867ad-cb93-4ba0-d527-1ec074246ab0"
      },
      "execution_count": null,
      "outputs": [
        {
          "output_type": "stream",
          "name": "stdout",
          "text": [
            "mango\n"
          ]
        }
      ]
    },
    {
      "cell_type": "code",
      "source": [
        "for i in 'banana':\n",
        " print(i)"
      ],
      "metadata": {
        "colab": {
          "base_uri": "https://localhost:8080/"
        },
        "collapsed": true,
        "id": "6Ur9g2OQVQiO",
        "outputId": "7626eae9-d4cd-4f78-fe59-f453659c9cbf"
      },
      "execution_count": null,
      "outputs": [
        {
          "output_type": "stream",
          "name": "stdout",
          "text": [
            "b\n",
            "a\n",
            "n\n",
            "a\n",
            "n\n",
            "a\n"
          ]
        }
      ]
    },
    {
      "cell_type": "code",
      "source": [
        "# Using For Loop in list\n",
        "vowels = 'aeiou'\n",
        "vowel_letter = []\n",
        "consonants = []\n",
        "word = input('Enter a word: ')\n",
        "\n",
        "for i in word:\n",
        "  if i in vowels:\n",
        "    vowel_letter.append(i)\n",
        "  else:\n",
        "    consonants.append(i)\n",
        "\n",
        "print(vowel_letter)\n",
        "print(consonants)\n"
      ],
      "metadata": {
        "id": "NklbTwJkVwtZ"
      },
      "execution_count": null,
      "outputs": []
    },
    {
      "cell_type": "code",
      "source": [
        "# Using strings and numbers in For Loops\n",
        "values = ['Danny', 56.0, 45.7, 'Lucky', 23, 'Alpha', 4]\n",
        "numbers = []\n",
        "Strings = []\n",
        "for i in values:\n",
        "  if type(i) == str:\n",
        "    Strings.append(i)\n",
        "  else:\n",
        "    numbers.append(i)\n",
        "print(numbers)\n",
        "print(Strings)"
      ],
      "metadata": {
        "id": "0o6iJmZj14vk"
      },
      "execution_count": null,
      "outputs": []
    },
    {
      "cell_type": "code",
      "source": [
        "# Using Dictionary in For Loop\n",
        "ice_cream ={'Name': 'Rejoice', 'Scoops': 5, 'Flavour': ['Chocolate', 'Caramel', 'Mint', 'Vanilla', 'Strawberry']}\n",
        "for i in ice_cream.values():\n",
        "    print(i)"
      ],
      "metadata": {
        "colab": {
          "base_uri": "https://localhost:8080/"
        },
        "collapsed": true,
        "id": "NK-O0uv6YRQi",
        "outputId": "d7d4c416-688e-4218-a77f-a55000e11069"
      },
      "execution_count": null,
      "outputs": [
        {
          "output_type": "stream",
          "name": "stdout",
          "text": [
            "Rejoice\n",
            "5\n",
            "['Chocolate', 'Caramel', 'Mint', 'Vanilla', 'Strawberry']\n"
          ]
        }
      ]
    },
    {
      "cell_type": "code",
      "source": [
        "for key, value in ice_cream.items(): # to print both values and keys\n",
        "    print(key, ':', value)\n"
      ],
      "metadata": {
        "colab": {
          "base_uri": "https://localhost:8080/"
        },
        "collapsed": true,
        "id": "uXKLxA9iZ3xW",
        "outputId": "a3d2cbf6-5da7-4a36-da28-18f2a345bfa5"
      },
      "execution_count": null,
      "outputs": [
        {
          "output_type": "stream",
          "name": "stdout",
          "text": [
            "Name : Rejoice\n",
            "Scoops : 5\n",
            "Flavour : ['Chocolate', 'Caramel', 'Mint', 'Vanilla', 'Strawberry']\n"
          ]
        }
      ]
    },
    {
      "cell_type": "code",
      "source": [
        "# For Loop in Range\n",
        "for i in range (10, 101, 10):\n",
        "  print(i)\n",
        "  if i == 60: # the condition\n",
        "   break # to return all the numbers before if statement\n"
      ],
      "metadata": {
        "colab": {
          "base_uri": "https://localhost:8080/"
        },
        "collapsed": true,
        "id": "M96yjvW-bV06",
        "outputId": "e93d2fdc-605f-4a26-99eb-e44007f03028"
      },
      "execution_count": null,
      "outputs": [
        {
          "output_type": "stream",
          "name": "stdout",
          "text": [
            "10\n",
            "20\n",
            "30\n",
            "40\n",
            "50\n",
            "60\n"
          ]
        }
      ]
    },
    {
      "cell_type": "code",
      "source": [
        "# print statements comes after continue.\n",
        "for i in range(1, 115, 15):\n",
        "  if i == 61:\n",
        "    continue\n",
        "  print(i)"
      ],
      "metadata": {
        "collapsed": true,
        "id": "gdZSSmVfcN3k"
      },
      "execution_count": null,
      "outputs": []
    },
    {
      "cell_type": "code",
      "source": [
        "# Using the else statement in loop\n",
        "students = ['lola', 'Oge', 'Kufre', 'Florence', 'Grace', 'David', 'Rejoice']\n",
        "\n",
        "for j in students:\n",
        "    print(f'{j} you are are welcome to Flaxwardens class, feel free to ask questions')\n",
        "else:\n",
        "    print('We hope you enjoy your learning experience')"
      ],
      "metadata": {
        "id": "8eNnxHBOe7qU"
      },
      "execution_count": null,
      "outputs": []
    },
    {
      "cell_type": "markdown",
      "source": [
        "NESTED LOOP"
      ],
      "metadata": {
        "id": "Z-kY2DdqfwLL"
      }
    },
    {
      "cell_type": "code",
      "source": [
        "# Nested loop\n",
        "colour = ['Red', 'Blue', 'Purple', 'Black', 'Pink', 'Yellow']\n",
        "fruits = ['Mango', 'Banana', 'Orange', 'Pawpaw', 'Apple']\n",
        "\n",
        "for i in colour:\n",
        "  for j in fruits:\n",
        "    print(f'Have you seen a {i}, {j} fruit')\n",
        "else:\n",
        "  print('We hope you enjoy your fruits')"
      ],
      "metadata": {
        "colab": {
          "base_uri": "https://localhost:8080/"
        },
        "collapsed": true,
        "id": "_aKqfdVify92",
        "outputId": "2b64ac58-cd22-4b6e-ea04-b7ea3191ab2a"
      },
      "execution_count": null,
      "outputs": [
        {
          "output_type": "stream",
          "name": "stdout",
          "text": [
            "Have you seen a Red, Mango fruit\n",
            "Have you seen a Red, Banana fruit\n",
            "Have you seen a Red, Orange fruit\n",
            "Have you seen a Red, Pawpaw fruit\n",
            "Have you seen a Red, Apple fruit\n",
            "Have you seen a Blue, Mango fruit\n",
            "Have you seen a Blue, Banana fruit\n",
            "Have you seen a Blue, Orange fruit\n",
            "Have you seen a Blue, Pawpaw fruit\n",
            "Have you seen a Blue, Apple fruit\n",
            "Have you seen a Purple, Mango fruit\n",
            "Have you seen a Purple, Banana fruit\n",
            "Have you seen a Purple, Orange fruit\n",
            "Have you seen a Purple, Pawpaw fruit\n",
            "Have you seen a Purple, Apple fruit\n",
            "Have you seen a Black, Mango fruit\n",
            "Have you seen a Black, Banana fruit\n",
            "Have you seen a Black, Orange fruit\n",
            "Have you seen a Black, Pawpaw fruit\n",
            "Have you seen a Black, Apple fruit\n",
            "Have you seen a Pink, Mango fruit\n",
            "Have you seen a Pink, Banana fruit\n",
            "Have you seen a Pink, Orange fruit\n",
            "Have you seen a Pink, Pawpaw fruit\n",
            "Have you seen a Pink, Apple fruit\n",
            "Have you seen a Yellow, Mango fruit\n",
            "Have you seen a Yellow, Banana fruit\n",
            "Have you seen a Yellow, Orange fruit\n",
            "Have you seen a Yellow, Pawpaw fruit\n",
            "Have you seen a Yellow, Apple fruit\n",
            "We hope you enjoy your fruits\n"
          ]
        }
      ]
    },
    {
      "cell_type": "markdown",
      "source": [
        "Excecise on Loops\n",
        "* Write a program that adds 5 to all the numbers except 50 and 60"
      ],
      "metadata": {
        "id": "y8Oz07LfhhNl"
      }
    },
    {
      "cell_type": "code",
      "source": [
        "for w in range(5, 101, 10):\n",
        "  if w == 50 or w == 60:\n",
        "    continue\n",
        "  print(w + 5)"
      ],
      "metadata": {
        "collapsed": true,
        "id": "hRIGHzZChk1k"
      },
      "execution_count": null,
      "outputs": []
    },
    {
      "cell_type": "markdown",
      "source": [
        "WHILE LOOP\n",
        "* A while loop is  a loop that allows a set of code to run as long a the condition is true.\n",
        "* Always define your incrementation"
      ],
      "metadata": {
        "id": "B4kqDTzskjpp"
      }
    },
    {
      "cell_type": "code",
      "source": [
        "# Example: print i as long as it is less than 6.\n",
        "i = 1\n",
        "while i < 20:\n",
        "  print(i)\n",
        "  i = i + 2"
      ],
      "metadata": {
        "id": "yE78zyHEkmni"
      },
      "execution_count": null,
      "outputs": []
    },
    {
      "cell_type": "code",
      "source": [
        "# number range in While Loop\n",
        "num = int(input('Enter a number: '))\n",
        "\n",
        "while num < 10:\n",
        "  print(num)\n",
        "  print(f'{num} is less than 10')\n",
        "  num = num + 1\n",
        "else:\n",
        "  print(f'{num} is not less than 10')"
      ],
      "metadata": {
        "colab": {
          "base_uri": "https://localhost:8080/"
        },
        "id": "GoG_4AWYnkpc",
        "outputId": "35835c97-6f8c-4f4a-fcd8-4173a5f28714"
      },
      "execution_count": null,
      "outputs": [
        {
          "output_type": "stream",
          "name": "stdout",
          "text": [
            "Enter a number: 23\n",
            "23 is not less than 10\n"
          ]
        }
      ]
    },
    {
      "cell_type": "code",
      "source": [
        "# using the Break Statement in While Loop\n",
        "w = 1\n",
        "while w < 10:\n",
        "  print(w)\n",
        "  if w == 5:\n",
        "    break\n",
        "  w = w + 1\n",
        "print('We are done')"
      ],
      "metadata": {
        "id": "OU0IHpNEpMII"
      },
      "execution_count": null,
      "outputs": []
    },
    {
      "cell_type": "code",
      "source": [
        "num = int(input('Enter a number: '))\n",
        "while num < 15:\n",
        "   print(num)\n",
        "   if num == 13:\n",
        "    break # using break on while loop\n",
        "print('We are done')"
      ],
      "metadata": {
        "colab": {
          "base_uri": "https://localhost:8080/"
        },
        "id": "CXw8ibt1rY08",
        "outputId": "0118bc4b-3b8f-47bb-f335-f7c5bb3da9ec"
      },
      "execution_count": null,
      "outputs": [
        {
          "output_type": "stream",
          "name": "stdout",
          "text": [
            "Enter a number: 13\n",
            "13\n",
            "We are done\n"
          ]
        }
      ]
    },
    {
      "cell_type": "code",
      "source": [
        "# using continue on while loop\n",
        "num = int(input('Enter a number: '))\n",
        "\n",
        "while num < 15:\n",
        "  num = num + 1\n",
        "  if num == 11 or num == 13:\n",
        "    continue\n",
        "  print(num)\n"
      ],
      "metadata": {
        "id": "3Gae929RsziK"
      },
      "execution_count": null,
      "outputs": []
    },
    {
      "cell_type": "markdown",
      "source": [
        "Exercise"
      ],
      "metadata": {
        "id": "ew_Cp2v0iOU6"
      }
    },
    {
      "cell_type": "code",
      "source": [
        "# print out all values between 30 and 70, and multiply them by 2\n",
        "for w in range(30, 70, 1):\n",
        "  print(w * 2)\n"
      ],
      "metadata": {
        "colab": {
          "base_uri": "https://localhost:8080/"
        },
        "collapsed": true,
        "id": "ev1-6msbeMmE",
        "outputId": "70011a4b-e43e-4e38-b7b7-1bab393c825f"
      },
      "execution_count": null,
      "outputs": [
        {
          "output_type": "stream",
          "name": "stdout",
          "text": [
            "60\n",
            "62\n",
            "64\n",
            "66\n",
            "68\n",
            "70\n",
            "72\n",
            "74\n",
            "76\n",
            "78\n",
            "80\n",
            "82\n",
            "84\n",
            "86\n",
            "88\n",
            "90\n",
            "92\n",
            "94\n",
            "96\n",
            "98\n",
            "100\n",
            "102\n",
            "104\n",
            "106\n",
            "108\n",
            "110\n",
            "112\n",
            "114\n",
            "116\n",
            "118\n",
            "120\n",
            "122\n",
            "124\n",
            "126\n",
            "128\n",
            "130\n",
            "132\n",
            "134\n",
            "136\n",
            "138\n"
          ]
        }
      ]
    },
    {
      "cell_type": "code",
      "source": [
        "# print out the even numbers and odd numbers from the range of numbers ranging from 34 - 50\n",
        "for i in range(34, 50):\n",
        "  if i % 2 == 0:\n",
        "    print(f'{i} is an even number')\n",
        "  else:\n",
        "    print(f'{i} is an odd number')"
      ],
      "metadata": {
        "colab": {
          "base_uri": "https://localhost:8080/"
        },
        "collapsed": true,
        "id": "fWQ3kn2rfUo_",
        "outputId": "4a7dd176-3f8e-426c-e74f-511d46c020cc"
      },
      "execution_count": null,
      "outputs": [
        {
          "output_type": "stream",
          "name": "stdout",
          "text": [
            "34 is an even number\n",
            "35 is an odd number\n",
            "36 is an even number\n",
            "37 is an odd number\n",
            "38 is an even number\n",
            "39 is an odd number\n",
            "40 is an even number\n",
            "41 is an odd number\n",
            "42 is an even number\n",
            "43 is an odd number\n",
            "44 is an even number\n",
            "45 is an odd number\n",
            "46 is an even number\n",
            "47 is an odd number\n",
            "48 is an even number\n",
            "49 is an odd number\n"
          ]
        }
      ]
    },
    {
      "cell_type": "code",
      "source": [
        "# create a program that checks if a name is in a list of\n",
        "# names [Sam, Mike, John, Phil, Neeno, Mark] If there, print found, if not there, print not found\n",
        "x = ['Sam', 'Mike', 'John', 'Phil', 'Neeno', 'Mark']\n",
        "name = input('Enter your name: ')\n",
        "if name in x:\n",
        "  print('Found')\n",
        "else:\n",
        "  print('Not Found')"
      ],
      "metadata": {
        "colab": {
          "base_uri": "https://localhost:8080/"
        },
        "collapsed": true,
        "id": "K39h_fg5gb1i",
        "outputId": "afa9a728-d348-4395-954f-4b4693097cd0"
      },
      "execution_count": null,
      "outputs": [
        {
          "output_type": "stream",
          "name": "stdout",
          "text": [
            "Enter your name: John\n",
            "Found\n"
          ]
        }
      ]
    },
    {
      "cell_type": "code",
      "source": [
        "# Write a program that runs the formular (i -3 + 4 * i)\n",
        "# on each item in the numbers ranging from 10 to 20\n",
        "numbers = range(10, 20)\n",
        "i = input('Enter a number: ')\n",
        "for i in numbers:\n",
        "  print((i - 3 + 4 * i))\n"
      ],
      "metadata": {
        "colab": {
          "base_uri": "https://localhost:8080/"
        },
        "collapsed": true,
        "id": "XFGRXIYthLJC",
        "outputId": "b6762ec0-2952-4efd-ef6f-42dcef5924d0"
      },
      "execution_count": null,
      "outputs": [
        {
          "output_type": "stream",
          "name": "stdout",
          "text": [
            "Enter a number: 50\n",
            "47\n",
            "52\n",
            "57\n",
            "62\n",
            "67\n",
            "72\n",
            "77\n",
            "82\n",
            "87\n",
            "92\n"
          ]
        }
      ]
    }
  ]
}