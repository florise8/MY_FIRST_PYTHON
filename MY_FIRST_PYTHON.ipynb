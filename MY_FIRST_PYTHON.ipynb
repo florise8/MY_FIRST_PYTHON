{
  "nbformat": 4,
  "nbformat_minor": 0,
  "metadata": {
    "colab": {
      "provenance": [],
      "toc_visible": true,
      "authorship_tag": "ABX9TyNwNgnbE0rgJq587Vfb3dgQ",
      "include_colab_link": true
    },
    "kernelspec": {
      "name": "python3",
      "display_name": "Python 3"
    },
    "language_info": {
      "name": "python"
    }
  },
  "cells": [
    {
      "cell_type": "markdown",
      "metadata": {
        "id": "view-in-github",
        "colab_type": "text"
      },
      "source": [
        "<a href=\"https://colab.research.google.com/github/florise8/MY_FIRST_PYTHON/blob/main/MY_FIRST_PYTHON.ipynb\" target=\"_parent\"><img src=\"https://colab.research.google.com/assets/colab-badge.svg\" alt=\"Open In Colab\"/></a>"
      ]
    },
    {
      "cell_type": "code",
      "execution_count": null,
      "metadata": {
        "id": "yRgcCEFVnDTy"
      },
      "outputs": [],
      "source": [
        "## THIS IS MY FIRST PYTHON CLASS"
      ]
    },
    {
      "cell_type": "markdown",
      "source": [
        "##THIS IS ME"
      ],
      "metadata": {
        "id": "dINKgNTjnmmp"
      }
    },
    {
      "cell_type": "code",
      "source": [
        "print('My Name is Florence Dube I am a student of Data Science')"
      ],
      "metadata": {
        "colab": {
          "base_uri": "https://localhost:8080/"
        },
        "id": "HlEnpbeDn_Om",
        "outputId": "0e48d650-b60c-42e4-fc22-d4fe8b428d46"
      },
      "execution_count": null,
      "outputs": [
        {
          "output_type": "stream",
          "name": "stdout",
          "text": [
            "My Name is Florence Dube I am a student of Data Science\n"
          ]
        }
      ]
    },
    {
      "cell_type": "code",
      "source": [
        "name = 'Florence Dube'\n",
        "age = 20\n",
        "job = 'Data Science'\n",
        "print(name)\n",
        "print(age)\n",
        "print(job)\n",
        "print(f'my name is {name} I am {age} years old and my job {job} ')\n"
      ],
      "metadata": {
        "colab": {
          "base_uri": "https://localhost:8080/"
        },
        "id": "rlhDHfU9pR9U",
        "outputId": "e40f8635-5d3d-418c-950c-03a5cc8127d2"
      },
      "execution_count": null,
      "outputs": [
        {
          "output_type": "stream",
          "name": "stdout",
          "text": [
            "Florence Dube\n",
            "20\n",
            "Data Science\n",
            "my name is Florence Dube I am 20 years old and my job Data Science \n"
          ]
        }
      ]
    },
    {
      "cell_type": "code",
      "source": [
        "name = input('Please enter your name:')\n",
        "age = int(input('Please enter your age:'))\n",
        "job= input('please enter your job')\n",
        "\n",
        "print(f'my name is {name} I am {age} years old and my job is {job} ')"
      ],
      "metadata": {
        "colab": {
          "base_uri": "https://localhost:8080/"
        },
        "id": "HxTiWLDrtG4B",
        "outputId": "c9a72c9c-bd27-4cac-bba9-f86ca225e895"
      },
      "execution_count": null,
      "outputs": [
        {
          "output_type": "stream",
          "name": "stdout",
          "text": [
            "Please enter your name:Dave Egg\n",
            "Please enter your age:18\n",
            "please enter your jobDoctor\n",
            "my name is Dave Egg I am 18 years old and my job is Doctor \n"
          ]
        }
      ]
    },
    {
      "cell_type": "code",
      "source": [
        "print('Welcome to Dube Scholarship Kindly fill out this information')\n",
        "\n",
        "name = input('Please enter your Name')\n",
        "Course = (input('Please enter your Course'))\n",
        "School = input('Which of the schools do you attend')\n",
        "School_Fees = float(input('How much is your school fees'))\n",
        "\n",
        "print(f'my name is {name} I study {Course} at {School} my total school fees for this term is {School_Fees} ')"
      ],
      "metadata": {
        "colab": {
          "base_uri": "https://localhost:8080/"
        },
        "id": "ogyNfBtkuxjj",
        "outputId": "9dddc9ec-17b3-4990-a707-fa58884db6df"
      },
      "execution_count": null,
      "outputs": [
        {
          "output_type": "stream",
          "name": "stdout",
          "text": [
            "Welcome to Dube Scholarship Kindly fill out this information\n",
            "Please enter your NameJohn Doe\n",
            "Please enter your CourseData Science\n",
            "Which of the schools do you attendIvy Academy \n",
            "How much is your school fees120000\n",
            "my name is John Doe I study Data Science at Ivy Academy  my total school fees this term is 120000.0 \n"
          ]
        }
      ]
    },
    {
      "cell_type": "markdown",
      "source": [
        "## Arithmetic Operators\n",
        "\n",
        "* Addition ➕\n",
        "* Subtraction  ➖\n",
        "* Multiplication  *\n",
        "* Division /\n",
        "* Modulus %\n",
        "* Exponentiation **\n",
        "* Floor Division //item\n",
        "\n",
        "\n",
        "\n"
      ],
      "metadata": {
        "id": "3H0Xaoqe0vMU"
      }
    },
    {
      "cell_type": "code",
      "source": [
        "# variables used\n",
        "x = 5\n",
        "y = 3"
      ],
      "metadata": {
        "id": "9IGhlj_60nTk"
      },
      "execution_count": null,
      "outputs": []
    },
    {
      "cell_type": "code",
      "source": [
        "# Addition Illustration\n",
        "result = x + y\n",
        "print(result)"
      ],
      "metadata": {
        "colab": {
          "base_uri": "https://localhost:8080/"
        },
        "id": "1vaREqSj3YE2",
        "outputId": "f32f9432-310b-474a-d398-17935457c6f1"
      },
      "execution_count": null,
      "outputs": [
        {
          "output_type": "stream",
          "name": "stdout",
          "text": [
            "8\n"
          ]
        }
      ]
    },
    {
      "cell_type": "code",
      "source": [
        "# Subtraction Illustration\n",
        "result = x - y\n",
        "print(result)\n"
      ],
      "metadata": {
        "colab": {
          "base_uri": "https://localhost:8080/"
        },
        "id": "XFYrYCfj3vk3",
        "outputId": "bb4a0e65-dd45-41bc-e929-41bc1135e87c"
      },
      "execution_count": null,
      "outputs": [
        {
          "output_type": "stream",
          "name": "stdout",
          "text": [
            "2\n"
          ]
        }
      ]
    },
    {
      "cell_type": "code",
      "source": [
        "# Multiplication Illustration\n",
        "result = x * y\n",
        "print(result)"
      ],
      "metadata": {
        "colab": {
          "base_uri": "https://localhost:8080/"
        },
        "id": "dL-d5HMi4Bjf",
        "outputId": "5ad4dda5-b668-4fca-88db-b91a9acb1364"
      },
      "execution_count": null,
      "outputs": [
        {
          "output_type": "stream",
          "name": "stdout",
          "text": [
            "15\n"
          ]
        }
      ]
    },
    {
      "cell_type": "code",
      "source": [
        "# Division Illustration\n",
        "result = x / y\n",
        "print(result)"
      ],
      "metadata": {
        "colab": {
          "base_uri": "https://localhost:8080/"
        },
        "id": "0SWdH_Sm4NaI",
        "outputId": "3a02a579-c712-4741-93f6-02b935cf16a5"
      },
      "execution_count": null,
      "outputs": [
        {
          "output_type": "stream",
          "name": "stdout",
          "text": [
            "1.6666666666666667\n"
          ]
        }
      ]
    },
    {
      "cell_type": "code",
      "source": [
        "# Expontiation Illustration\n",
        "result = x ** y\n",
        "print(result)"
      ],
      "metadata": {
        "colab": {
          "base_uri": "https://localhost:8080/"
        },
        "id": "CtT5bIrE4VTq",
        "outputId": "ddfd1917-6d07-4926-db22-a16576bfc555"
      },
      "execution_count": null,
      "outputs": [
        {
          "output_type": "stream",
          "name": "stdout",
          "text": [
            "125\n"
          ]
        }
      ]
    },
    {
      "cell_type": "code",
      "source": [
        "# Using input for Addition\n",
        "firstnum = int(input('enter a number'))\n",
        "secondnum = int(input('enter a number'))\n",
        "result = firstnum + secondnum\n",
        "print(result)"
      ],
      "metadata": {
        "colab": {
          "base_uri": "https://localhost:8080/"
        },
        "id": "3FmCuKkM4iX8",
        "outputId": "0aadfd84-2cb4-426c-defd-c8014000f776"
      },
      "execution_count": null,
      "outputs": [
        {
          "output_type": "stream",
          "name": "stdout",
          "text": [
            "enter a number6\n",
            "enter a number10\n",
            "16\n"
          ]
        }
      ]
    },
    {
      "cell_type": "code",
      "source": [
        "# Using input for Subtraction\n",
        "firstnum = int(input('enter a number'))\n",
        "secondnum = int(input('enter a number'))\n",
        "result = firstnum - secondnum\n",
        "print(result)"
      ],
      "metadata": {
        "colab": {
          "base_uri": "https://localhost:8080/"
        },
        "id": "O7qLQf5g52Fs",
        "outputId": "e2b05704-fd76-42d1-cf19-e2cec02ad929"
      },
      "execution_count": null,
      "outputs": [
        {
          "output_type": "stream",
          "name": "stdout",
          "text": [
            "enter a number90\n",
            "enter a number20\n",
            "70\n"
          ]
        }
      ]
    },
    {
      "cell_type": "code",
      "source": [
        "# Using input for Multiplication\n",
        "firstnum = int(input('enter a number'))\n",
        "secondnum = int(input('enter a number'))\n",
        "result = firstnum * secondnum\n",
        "print(result)"
      ],
      "metadata": {
        "colab": {
          "base_uri": "https://localhost:8080/"
        },
        "id": "EZwi1U0n5_lD",
        "outputId": "f5d07f7a-ceec-45f7-e934-109a52e70f0f"
      },
      "execution_count": null,
      "outputs": [
        {
          "output_type": "stream",
          "name": "stdout",
          "text": [
            "enter a number20\n",
            "enter a number30\n",
            "600\n"
          ]
        }
      ]
    },
    {
      "cell_type": "code",
      "source": [
        "# Using input for Division\n",
        "firstnum = int(input('enter a number'))\n",
        "secondnum = int(input('enter a number'))\n",
        "result = firstnum / secondnum\n",
        "print(result)"
      ],
      "metadata": {
        "colab": {
          "base_uri": "https://localhost:8080/"
        },
        "id": "kyYL24vz6Oh7",
        "outputId": "74045f3a-efdb-491e-92ec-b44ed57f4459"
      },
      "execution_count": null,
      "outputs": [
        {
          "output_type": "stream",
          "name": "stdout",
          "text": [
            "enter a number50\n",
            "enter a number20\n",
            "2.5\n"
          ]
        }
      ]
    },
    {
      "cell_type": "code",
      "source": [
        "# using round up in division\n",
        "round(10/3,2)"
      ],
      "metadata": {
        "colab": {
          "base_uri": "https://localhost:8080/"
        },
        "id": "WrvuxKAgyy3D",
        "outputId": "c3a6652b-5ecf-4ba1-f4b5-a08fa00e96ed"
      },
      "execution_count": null,
      "outputs": [
        {
          "output_type": "execute_result",
          "data": {
            "text/plain": [
              "3.33"
            ]
          },
          "metadata": {},
          "execution_count": 11
        }
      ]
    },
    {
      "cell_type": "code",
      "source": [
        "# Using input for Modulus\n",
        "firstnum = int(input('enter a number'))\n",
        "secondnum = int(input('enter a number'))\n",
        "result = firstnum % secondnum\n",
        "print(result)"
      ],
      "metadata": {
        "colab": {
          "base_uri": "https://localhost:8080/"
        },
        "id": "8qGviqmZ6Xvj",
        "outputId": "2a66d3ed-657e-4b8e-946b-631cd3761147"
      },
      "execution_count": null,
      "outputs": [
        {
          "output_type": "stream",
          "name": "stdout",
          "text": [
            "enter a number10\n",
            "enter a number15\n",
            "10\n"
          ]
        }
      ]
    },
    {
      "cell_type": "code",
      "source": [
        "# Using input for Exponentiation\n",
        "firstnum = int(input('enter a number'))\n",
        "secondnum = int(input('enter a number'))\n",
        "result = firstnum ** secondnum\n",
        "print(result)"
      ],
      "metadata": {
        "colab": {
          "base_uri": "https://localhost:8080/"
        },
        "id": "Gg3VOTED6iPx",
        "outputId": "30ff8034-5322-4085-85a2-1e1f6a8b64f8"
      },
      "execution_count": null,
      "outputs": [
        {
          "output_type": "stream",
          "name": "stdout",
          "text": [
            "enter a number50\n",
            "enter a number30\n",
            "931322574615478515625000000000000000000000000000000\n"
          ]
        }
      ]
    },
    {
      "cell_type": "code",
      "source": [
        "# Using input for Floor Division\n",
        "firstnum = int(input('enter a number'))\n",
        "secondnum = int(input('enter a number'))\n",
        "result = firstnum // secondnum\n",
        "print(result)"
      ],
      "metadata": {
        "colab": {
          "base_uri": "https://localhost:8080/"
        },
        "id": "tLms74eG6zV3",
        "outputId": "03bf4fb7-7a93-46e9-cfc7-c8218fbbf5db"
      },
      "execution_count": null,
      "outputs": [
        {
          "output_type": "stream",
          "name": "stdout",
          "text": [
            "enter a number100\n",
            "enter a number40\n",
            "2\n"
          ]
        }
      ]
    },
    {
      "cell_type": "code",
      "source": [
        "print('DEAR CUSTOMER, YOU ARE WELCOME TO IVY FARMS; KINDLY FILL OUT THIS FORM')\n",
        "Customer_Name = input('Please enter your name: ')\n",
        "CurrentYear = int(input('Please enter the current year: '))\n",
        "Birthyear = int(input('Please enter your birthyear: '))\n",
        "age = CurrentYear - Birthyear\n",
        "print(f'Dear {Customer_Name} aged {age} ')\n",
        "print('Thank you for Patronising IVY FARMS')"
      ],
      "metadata": {
        "colab": {
          "base_uri": "https://localhost:8080/"
        },
        "id": "rMqDn56M_sAu",
        "outputId": "372b3046-f54b-40b7-dce8-bde41e454098"
      },
      "execution_count": null,
      "outputs": [
        {
          "output_type": "stream",
          "name": "stdout",
          "text": [
            "DEAR CUSTOMER, YOU ARE WELCOME TO IVY FARMS; KINDLY FILL OUT THIS FORM\n",
            "Please enter your name: MILO\n",
            "Please enter the current year: 2024\n",
            "Please enter your birthyear: 2007\n",
            "Dear MILO aged 17 \n",
            "Thank you for Patronising IVY FARMS\n"
          ]
        }
      ]
    },
    {
      "cell_type": "markdown",
      "source": [
        "## COMPARISON OPERATORS\n",
        "*   Equal to = =\n",
        "*   Not Equal to /=\n",
        "*   Greater Than\n",
        "*   Less than\n",
        "*  Graeter than equal to\n",
        "* less than equal to\n",
        "\n",
        "\n",
        "\n"
      ],
      "metadata": {
        "id": "lLQvQg_xv_Wf"
      }
    },
    {
      "cell_type": "code",
      "source": [
        "# Equal to Opeartors\n",
        "a = 5\n",
        "b = 7\n",
        "a == b"
      ],
      "metadata": {
        "colab": {
          "base_uri": "https://localhost:8080/"
        },
        "id": "dcKkV7p6v-yY",
        "outputId": "0f7fd732-7947-4534-92a5-af0fbc3e9c01"
      },
      "execution_count": null,
      "outputs": [
        {
          "output_type": "execute_result",
          "data": {
            "text/plain": [
              "False"
            ]
          },
          "metadata": {},
          "execution_count": 2
        }
      ]
    },
    {
      "cell_type": "code",
      "source": [
        "# Not Equal to Operators\n",
        "a!= b\n"
      ],
      "metadata": {
        "colab": {
          "base_uri": "https://localhost:8080/"
        },
        "id": "m-Cc_bSYw59a",
        "outputId": "0912340a-74ba-4c12-a015-731b83a7c1ce"
      },
      "execution_count": null,
      "outputs": [
        {
          "output_type": "execute_result",
          "data": {
            "text/plain": [
              "True"
            ]
          },
          "metadata": {},
          "execution_count": 3
        }
      ]
    },
    {
      "cell_type": "code",
      "source": [
        "# Greater than Operators\n",
        "a > b"
      ],
      "metadata": {
        "colab": {
          "base_uri": "https://localhost:8080/"
        },
        "id": "pkyKkhmLxNLG",
        "outputId": "08d4bfce-0b7c-4191-8262-48485fb7e2b3"
      },
      "execution_count": null,
      "outputs": [
        {
          "output_type": "execute_result",
          "data": {
            "text/plain": [
              "False"
            ]
          },
          "metadata": {},
          "execution_count": 4
        }
      ]
    },
    {
      "cell_type": "code",
      "source": [
        "# Less than operators\n",
        "a < b"
      ],
      "metadata": {
        "colab": {
          "base_uri": "https://localhost:8080/"
        },
        "id": "-aBCpe_MxXZX",
        "outputId": "bd4098ed-6f7c-47d3-fc75-41230b31b557"
      },
      "execution_count": null,
      "outputs": [
        {
          "output_type": "execute_result",
          "data": {
            "text/plain": [
              "True"
            ]
          },
          "metadata": {},
          "execution_count": 5
        }
      ]
    },
    {
      "cell_type": "markdown",
      "source": [
        "## LOGICAL OPERATORS\n",
        "* And (&): it combines two equations. it returns true\n",
        "           if both statements are true.\n",
        "* Or (|):  it returns true if one statement is true\n",
        "* Not :    it reverses the result, it returns false if the result is true."
      ],
      "metadata": {
        "id": "u7oBaKqRzi2w"
      }
    },
    {
      "cell_type": "code",
      "source": [
        "# AND Operators\n",
        "x = 3\n",
        "x < 5 and x < 10"
      ],
      "metadata": {
        "colab": {
          "base_uri": "https://localhost:8080/"
        },
        "id": "7e4dfxsq1H2P",
        "outputId": "1bb1e415-dfd0-428c-8cd8-6a0e586ab109"
      },
      "execution_count": null,
      "outputs": [
        {
          "output_type": "execute_result",
          "data": {
            "text/plain": [
              "True"
            ]
          },
          "metadata": {},
          "execution_count": 12
        }
      ]
    },
    {
      "cell_type": "code",
      "source": [
        "#OR Operators\n",
        "x < 5 or x > 4"
      ],
      "metadata": {
        "colab": {
          "base_uri": "https://localhost:8080/"
        },
        "id": "BmS0jk6S1b4Z",
        "outputId": "49c763ff-4c3d-44ba-e985-1260346b804e"
      },
      "execution_count": null,
      "outputs": [
        {
          "output_type": "execute_result",
          "data": {
            "text/plain": [
              "True"
            ]
          },
          "metadata": {},
          "execution_count": 13
        }
      ]
    },
    {
      "cell_type": "code",
      "source": [
        "# NOT Operators\n",
        "not(x>5 and x>10)"
      ],
      "metadata": {
        "colab": {
          "base_uri": "https://localhost:8080/"
        },
        "id": "q3A1TbIA1qtS",
        "outputId": "c6cf666e-94a3-4d56-8908-d0622557e7d8"
      },
      "execution_count": null,
      "outputs": [
        {
          "output_type": "execute_result",
          "data": {
            "text/plain": [
              "True"
            ]
          },
          "metadata": {},
          "execution_count": 17
        }
      ]
    },
    {
      "cell_type": "code",
      "source": [
        "# NOT OPerators\n",
        "not(x<5 or x<10 )"
      ],
      "metadata": {
        "colab": {
          "base_uri": "https://localhost:8080/"
        },
        "id": "6L1v4chM16Yv",
        "outputId": "f46f63df-c6ab-4467-8f9b-0c9d99026a8b"
      },
      "execution_count": null,
      "outputs": [
        {
          "output_type": "execute_result",
          "data": {
            "text/plain": [
              "False"
            ]
          },
          "metadata": {},
          "execution_count": 16
        }
      ]
    },
    {
      "cell_type": "code",
      "source": [
        "## Finding Data type Syntax\n",
        "x = 5\n",
        "y = 2.12\n",
        "z = 'eat'\n",
        "print(type(x))\n",
        "print(type(y))\n",
        "print(type(z))"
      ],
      "metadata": {
        "colab": {
          "base_uri": "https://localhost:8080/"
        },
        "id": "fYeGJzS92zFQ",
        "outputId": "405af445-356d-40ee-f3f1-008f19c96f80"
      },
      "execution_count": null,
      "outputs": [
        {
          "output_type": "stream",
          "name": "stdout",
          "text": [
            "<class 'int'>\n",
            "<class 'float'>\n",
            "<class 'str'>\n"
          ]
        }
      ]
    },
    {
      "cell_type": "code",
      "source": [
        "#  changing float to int\n",
        "a = float(x)\n",
        "print(type(a))\n"
      ],
      "metadata": {
        "colab": {
          "base_uri": "https://localhost:8080/"
        },
        "id": "JNDPDd5b4JJ0",
        "outputId": "26724434-f839-4fdd-dc5c-2edcf651b250"
      },
      "execution_count": null,
      "outputs": [
        {
          "output_type": "stream",
          "name": "stdout",
          "text": [
            "<class 'float'>\n"
          ]
        }
      ]
    },
    {
      "cell_type": "code",
      "source": [
        "#  changing int to float\n",
        "b = int(y)\n",
        "print(type(b))"
      ],
      "metadata": {
        "colab": {
          "base_uri": "https://localhost:8080/"
        },
        "id": "Z90oafWr5GQO",
        "outputId": "e23a4fb3-b4cd-4500-8d09-622f1bb2387a"
      },
      "execution_count": null,
      "outputs": [
        {
          "output_type": "stream",
          "name": "stdout",
          "text": [
            "<class 'int'>\n"
          ]
        }
      ]
    },
    {
      "cell_type": "markdown",
      "source": [
        "## STRING MANIPULATION\n"
      ],
      "metadata": {
        "id": "wNy4ZqyG5imE"
      }
    },
    {
      "cell_type": "code",
      "source": [
        "# String Combination\n",
        "print ('hello'+'world')"
      ],
      "metadata": {
        "colab": {
          "base_uri": "https://localhost:8080/"
        },
        "id": "_SYP16h75xh9",
        "outputId": "a7cda565-39ec-4ae0-8b7c-c68bef5a89ba"
      },
      "execution_count": null,
      "outputs": [
        {
          "output_type": "stream",
          "name": "stdout",
          "text": [
            "helloworld\n"
          ]
        }
      ]
    },
    {
      "cell_type": "code",
      "source": [
        "# String Combination with space\n",
        "print ('hello'+' '+'World')"
      ],
      "metadata": {
        "colab": {
          "base_uri": "https://localhost:8080/"
        },
        "id": "pAJQaTtJ6DZi",
        "outputId": "c6e22805-7f5b-45f7-f626-9c194b903e41"
      },
      "execution_count": null,
      "outputs": [
        {
          "output_type": "stream",
          "name": "stdout",
          "text": [
            "hello World\n"
          ]
        }
      ]
    },
    {
      "cell_type": "code",
      "source": [
        "# String Combination with names\n",
        "firstname = 'Florence'\n",
        "middlename = 'philo'\n",
        "lastname = 'Dube'\n",
        "fullname = (firstname + ' ' + middlename + ' ' + lastname)\n",
        "print(fullname)"
      ],
      "metadata": {
        "colab": {
          "base_uri": "https://localhost:8080/"
        },
        "id": "4ume7gHu6hHM",
        "outputId": "fcc22a9b-42bf-42e0-ceb9-ee8b9d519f3e"
      },
      "execution_count": null,
      "outputs": [
        {
          "output_type": "stream",
          "name": "stdout",
          "text": [
            "Florence philo Dube\n"
          ]
        }
      ]
    },
    {
      "cell_type": "code",
      "source": [
        "# String combination with input\n",
        "firstname = input('Please enter your First Name')\n",
        "middlename = input ('Please enter your Middle Name')\n",
        "Lastname = input ('Please enter your Last Name')\n",
        "fullname = (firstname+ middlename + Lastname)\n",
        "print(fullname)"
      ],
      "metadata": {
        "colab": {
          "base_uri": "https://localhost:8080/"
        },
        "id": "2nYGDJOc9SIt",
        "outputId": "b996a283-db83-4fb7-a37f-52dd7b4194e8"
      },
      "execution_count": null,
      "outputs": [
        {
          "output_type": "stream",
          "name": "stdout",
          "text": [
            "Please enter your First Name love\n",
            "Please enter your Middle Name me\n",
            "Please enter your Last Name now\n",
            " love me now\n"
          ]
        }
      ]
    },
    {
      "cell_type": "markdown",
      "source": [
        "## String Slicing and Indexing"
      ],
      "metadata": {
        "id": "Rwajdz6mBphd"
      }
    },
    {
      "cell_type": "code",
      "source": [
        "# Using index Operation\n",
        "Sentence = 'I am a girl and I love black'\n",
        "Sentence[5]"
      ],
      "metadata": {
        "colab": {
          "base_uri": "https://localhost:8080/",
          "height": 35
        },
        "id": "2Jt1xa_9Bw5I",
        "outputId": "0fb3b87b-3aed-4153-f3f4-a928122d7521"
      },
      "execution_count": null,
      "outputs": [
        {
          "output_type": "execute_result",
          "data": {
            "text/plain": [
              "'a'"
            ],
            "application/vnd.google.colaboratory.intrinsic+json": {
              "type": "string"
            }
          },
          "metadata": {},
          "execution_count": 37
        }
      ]
    },
    {
      "cell_type": "code",
      "source": [
        "# Get letters that are on position 10, 15, 11\n",
        "Sentence = 'I am a girl and I love black'\n",
        "print(Sentence[7])\n",
        "print(Sentence[9])\n",
        "print(Sentence[10])\n",
        "print(Sentence[11])\n",
        "print(Sentence[15])\n",
        "\n",
        "\n"
      ],
      "metadata": {
        "colab": {
          "base_uri": "https://localhost:8080/"
        },
        "id": "iMJ90zytDnUZ",
        "outputId": "a0fa4302-23a3-4e8b-fe63-7da532152fc6"
      },
      "execution_count": null,
      "outputs": [
        {
          "output_type": "stream",
          "name": "stdout",
          "text": [
            "g\n",
            "r\n",
            "l\n",
            " \n",
            " \n"
          ]
        }
      ]
    },
    {
      "cell_type": "code",
      "source": [
        "# Slicing Operation\n",
        "sentence = 'I am a girl and I love black'\n",
        "sentence[1:6]"
      ],
      "metadata": {
        "colab": {
          "base_uri": "https://localhost:8080/",
          "height": 35
        },
        "id": "upwr46jkG_lq",
        "outputId": "4a17d5bb-92d9-4e9c-8d5c-4c7d832855a3"
      },
      "execution_count": null,
      "outputs": [
        {
          "output_type": "execute_result",
          "data": {
            "text/plain": [
              "' am a'"
            ],
            "application/vnd.google.colaboratory.intrinsic+json": {
              "type": "string"
            }
          },
          "metadata": {},
          "execution_count": 1
        }
      ]
    },
    {
      "cell_type": "code",
      "source": [
        "# Slicing Operation retriving love, black and colour\n",
        "sentence = 'I am a girl and I love black colour'\n",
        "print(sentence[18:22])\n",
        "print(sentence[23:28])\n",
        "print(sentence[29:35])"
      ],
      "metadata": {
        "colab": {
          "base_uri": "https://localhost:8080/"
        },
        "id": "HN_euDaYHr8F",
        "outputId": "62396261-d1cf-4d85-c0bd-c4985b46dbdc"
      },
      "execution_count": null,
      "outputs": [
        {
          "output_type": "stream",
          "name": "stdout",
          "text": [
            "love\n",
            "black\n",
            "colour\n"
          ]
        }
      ]
    },
    {
      "cell_type": "code",
      "source": [
        "# knowing index position of letters\n",
        "sentence = 'I am a girl and I love black colour'\n",
        "sentence.index('r')"
      ],
      "metadata": {
        "colab": {
          "base_uri": "https://localhost:8080/"
        },
        "id": "rz39ZdhLJSCa",
        "outputId": "41a37798-c15e-417f-e823-e756296dbbd9"
      },
      "execution_count": null,
      "outputs": [
        {
          "output_type": "execute_result",
          "data": {
            "text/plain": [
              "9"
            ]
          },
          "metadata": {},
          "execution_count": 75
        }
      ]
    },
    {
      "cell_type": "markdown",
      "source": [
        "# NUMBER MANIPULATIONS"
      ],
      "metadata": {
        "id": "J_br_hxl5z3P"
      }
    },
    {
      "cell_type": "code",
      "source": [
        "Value = [20, 76, 56, 1, 62, 43, 89, 0, 10, -78]"
      ],
      "metadata": {
        "id": "Vp-Qkbtt579i"
      },
      "execution_count": null,
      "outputs": []
    },
    {
      "cell_type": "code",
      "source": [
        "# Return the last number\n",
        "Value = [20, 76, 56, 1, 62, 43, 89, 0, 10, -78]\n",
        "Value[-1]"
      ],
      "metadata": {
        "colab": {
          "base_uri": "https://localhost:8080/"
        },
        "id": "gz6hMDY_750O",
        "outputId": "1623bbed-93b8-4698-de5b-e029644aebf1"
      },
      "execution_count": null,
      "outputs": [
        {
          "output_type": "execute_result",
          "data": {
            "text/plain": [
              "-78"
            ]
          },
          "metadata": {},
          "execution_count": 4
        }
      ]
    },
    {
      "cell_type": "code",
      "source": [
        "# Return all numbers from the third index position\n",
        "Value = [20, 76, 56, 1, 62, 43, 89, 0, 10, -78]\n",
        "Value[2:]"
      ],
      "metadata": {
        "colab": {
          "base_uri": "https://localhost:8080/"
        },
        "id": "w41JzqEk8GvS",
        "outputId": "83be88fd-59af-4a9a-9628-f624eeee8712"
      },
      "execution_count": null,
      "outputs": [
        {
          "output_type": "execute_result",
          "data": {
            "text/plain": [
              "[56, 1, 62, 43, 89, 0, 10, -78]"
            ]
          },
          "metadata": {},
          "execution_count": 41
        }
      ]
    },
    {
      "cell_type": "code",
      "source": [
        "# Return the 10th index item raised to power 2\n",
        "Value = [20, 76, 56, 1, 62, 43, 89, 0, 10, -78]\n",
        "Value[9]**2"
      ],
      "metadata": {
        "colab": {
          "base_uri": "https://localhost:8080/"
        },
        "id": "a_b9kcRX8b7g",
        "outputId": "9ac58568-e07d-4cc6-a644-f76a9b65d48c"
      },
      "execution_count": null,
      "outputs": [
        {
          "output_type": "execute_result",
          "data": {
            "text/plain": [
              "6084"
            ]
          },
          "metadata": {},
          "execution_count": 40
        }
      ]
    },
    {
      "cell_type": "code",
      "source": [
        "# Return all numbers before the last three\n",
        "Value = [20, 76, 56, 1, 62, 43, 89, 0, 10, -78]\n",
        "Value[:-3]"
      ],
      "metadata": {
        "colab": {
          "base_uri": "https://localhost:8080/"
        },
        "id": "AdwvxVwL9Nu3",
        "outputId": "ead4fec8-6743-46e9-d233-bbd151bf0802"
      },
      "execution_count": null,
      "outputs": [
        {
          "output_type": "execute_result",
          "data": {
            "text/plain": [
              "[20, 76, 56, 1, 62, 43, 89]"
            ]
          },
          "metadata": {},
          "execution_count": 9
        }
      ]
    },
    {
      "cell_type": "code",
      "source": [
        "# Start from 3rd index and end at the second to last item\n",
        "Value = [20, 76, 56, 1, 62, 43, 89, 0, 10, -78]\n",
        "Value[3:-2]"
      ],
      "metadata": {
        "colab": {
          "base_uri": "https://localhost:8080/"
        },
        "id": "fe4BpvM89eG_",
        "outputId": "13d9186b-3e92-48fb-8ebc-c76aa5148ade"
      },
      "execution_count": null,
      "outputs": [
        {
          "output_type": "execute_result",
          "data": {
            "text/plain": [
              "[1, 62, 43, 89, 0]"
            ]
          },
          "metadata": {},
          "execution_count": 43
        }
      ]
    },
    {
      "cell_type": "code",
      "source": [
        "# Return all numbers between 4th and 8th index position\n",
        "Value = [20, 76, 56, 1, 62, 43, 89, 0, 10, -78]\n",
        "Value[4:8]"
      ],
      "metadata": {
        "colab": {
          "base_uri": "https://localhost:8080/"
        },
        "id": "8nhtf6Oc9uGZ",
        "outputId": "fc756bcd-46de-43b9-95b4-4ef682a78c49"
      },
      "execution_count": null,
      "outputs": [
        {
          "output_type": "execute_result",
          "data": {
            "text/plain": [
              "[62, 43, 89, 0]"
            ]
          },
          "metadata": {},
          "execution_count": 11
        }
      ]
    },
    {
      "cell_type": "code",
      "source": [
        "# Return all numbers except the last item\n",
        "Value = [20, 76, 56, 1, 62, 43, 89, 0, 10, -78]\n",
        "Value[:-1]"
      ],
      "metadata": {
        "colab": {
          "base_uri": "https://localhost:8080/"
        },
        "id": "frdTxXbh954i",
        "outputId": "5933ce87-3dbc-43ec-bc81-e89a6bdcf9d1"
      },
      "execution_count": null,
      "outputs": [
        {
          "output_type": "execute_result",
          "data": {
            "text/plain": [
              "[20, 76, 56, 1, 62, 43, 89, 0, 10]"
            ]
          },
          "metadata": {},
          "execution_count": 12
        }
      ]
    },
    {
      "cell_type": "code",
      "source": [
        "# Return all numbers except the first and last value\n",
        "Value = [20, 76, 56, 1, 62, 43, 89, 0, 10, -78]\n",
        "Value[1:9]"
      ],
      "metadata": {
        "colab": {
          "base_uri": "https://localhost:8080/"
        },
        "id": "I4e32kLH-B6q",
        "outputId": "b804b4dd-8d33-423f-9bf6-c028586c3450"
      },
      "execution_count": null,
      "outputs": [
        {
          "output_type": "execute_result",
          "data": {
            "text/plain": [
              "[76, 56, 1, 62, 43, 89, 0, 10]"
            ]
          },
          "metadata": {},
          "execution_count": 14
        }
      ]
    },
    {
      "cell_type": "code",
      "source": [
        "#return the modulus of numbers at index 5 and index 9, multiply the modulus by 10\n",
        "Value = [20, 76, 56, 1, 62, 43, 89, 0, 10, -78]\n",
        "print(Value[4]% Value[8]*10)\n"
      ],
      "metadata": {
        "colab": {
          "base_uri": "https://localhost:8080/"
        },
        "id": "F7f3I_eN6Ubt",
        "outputId": "ee9b32ca-b33c-4bb3-88da-499cd0fc7675"
      },
      "execution_count": null,
      "outputs": [
        {
          "output_type": "stream",
          "name": "stdout",
          "text": [
            "20\n"
          ]
        }
      ]
    },
    {
      "cell_type": "markdown",
      "source": [
        "# Two Dimensions"
      ],
      "metadata": {
        "id": "oYnT4-9YGO-y"
      }
    },
    {
      "cell_type": "code",
      "source": [
        "numbers = [[2,3,4,5],[7,8,9,10],[4,3,32,1]]"
      ],
      "metadata": {
        "id": "YR1b2740GSZV"
      },
      "execution_count": null,
      "outputs": []
    },
    {
      "cell_type": "code",
      "source": [
        "# Retrieve number 10\n",
        "numbers = [[2,3,4,5],[7,8,9,10],[4,3,32,1]]\n",
        "numbers[1][3]"
      ],
      "metadata": {
        "colab": {
          "base_uri": "https://localhost:8080/"
        },
        "id": "zohO_uF8G0GL",
        "outputId": "4b2d5104-2998-4bde-8c5d-ec3a733dcbd7"
      },
      "execution_count": null,
      "outputs": [
        {
          "output_type": "execute_result",
          "data": {
            "text/plain": [
              "10"
            ]
          },
          "metadata": {},
          "execution_count": 45
        }
      ]
    },
    {
      "cell_type": "code",
      "source": [
        "# Retrieve numbers between 8 and 10\n",
        "numbers = [[2,3,4,5],[7,8,9,10],[4,3,32,1]]\n",
        "numbers[1][1:3]"
      ],
      "metadata": {
        "colab": {
          "base_uri": "https://localhost:8080/"
        },
        "id": "nq8WpdpvHA2F",
        "outputId": "87117ef1-84e5-457d-9ad4-dc9e1ca337d7"
      },
      "execution_count": null,
      "outputs": [
        {
          "output_type": "execute_result",
          "data": {
            "text/plain": [
              "[8, 9]"
            ]
          },
          "metadata": {},
          "execution_count": 46
        }
      ]
    },
    {
      "cell_type": "code",
      "source": [
        "# Retrieve number 32\n",
        "numbers = [[2,3,4,5],[7,8,9,10],[4,3,32,1]]\n",
        "numbers[2][2]"
      ],
      "metadata": {
        "colab": {
          "base_uri": "https://localhost:8080/"
        },
        "id": "eY_nxHUXHLrO",
        "outputId": "440d98ee-5e0b-4b51-d68d-6c5d5d850de8"
      },
      "execution_count": null,
      "outputs": [
        {
          "output_type": "execute_result",
          "data": {
            "text/plain": [
              "32"
            ]
          },
          "metadata": {},
          "execution_count": 47
        }
      ]
    },
    {
      "cell_type": "code",
      "source": [
        "# Retrieve number 9\n",
        "numbers = [[2,3,4,5],[7,8,9,10],[4,3,32,1]]\n",
        "numbers[1][2]"
      ],
      "metadata": {
        "colab": {
          "base_uri": "https://localhost:8080/"
        },
        "id": "rcJ86j1vHW_E",
        "outputId": "0cd398c1-f560-41b3-86a3-a8a8cc9673fe"
      },
      "execution_count": null,
      "outputs": [
        {
          "output_type": "execute_result",
          "data": {
            "text/plain": [
              "9"
            ]
          },
          "metadata": {},
          "execution_count": 50
        }
      ]
    },
    {
      "cell_type": "code",
      "source": [
        "# Retrieve all the even numbers\n",
        "numbers = [[2,3,4,5],[7,8,9,10],[4,3,32,1]]\n",
        "print(numbers[0][0], numbers[0][2], numbers[1][1], numbers[1][3], numbers[2][0], numbers[2][2])"
      ],
      "metadata": {
        "colab": {
          "base_uri": "https://localhost:8080/"
        },
        "id": "cyFp2ihvHfNp",
        "outputId": "70f52c3a-9e9e-4d54-fd34-fcb0b11c286f"
      },
      "execution_count": null,
      "outputs": [
        {
          "output_type": "stream",
          "name": "stdout",
          "text": [
            "2 4 8 10 4 32\n"
          ]
        }
      ]
    },
    {
      "cell_type": "code",
      "source": [
        "# Retrieve all the odd numbers\n",
        "numbers = [[2,3,4,5],[7,8,9,10],[4,3,32,1]]\n",
        "print(numbers[0][1], numbers[0][3], numbers[1][0], numbers[1][2], numbers[2][1], numbers[2][3])\n",
        "\n"
      ],
      "metadata": {
        "colab": {
          "base_uri": "https://localhost:8080/"
        },
        "id": "u--a9vi1JbPw",
        "outputId": "9edc67c4-c9df-4c7c-e822-fcecbc332afa"
      },
      "execution_count": null,
      "outputs": [
        {
          "output_type": "stream",
          "name": "stdout",
          "text": [
            "3 5 7 9 3 1\n"
          ]
        }
      ]
    },
    {
      "cell_type": "code",
      "source": [
        "numbers = [[2,3,4,5],[7,8,9,10],[4,3,32,1]]\n"
      ],
      "metadata": {
        "id": "ygK41BLqKJDb"
      },
      "execution_count": null,
      "outputs": []
    }
  ]
}