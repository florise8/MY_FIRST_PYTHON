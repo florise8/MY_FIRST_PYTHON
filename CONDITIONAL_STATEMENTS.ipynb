{
  "nbformat": 4,
  "nbformat_minor": 0,
  "metadata": {
    "colab": {
      "provenance": [],
      "authorship_tag": "ABX9TyNVNh3Sl1dd6oIpY5hvCGTG",
      "include_colab_link": true
    },
    "kernelspec": {
      "name": "python3",
      "display_name": "Python 3"
    },
    "language_info": {
      "name": "python"
    }
  },
  "cells": [
    {
      "cell_type": "markdown",
      "metadata": {
        "id": "view-in-github",
        "colab_type": "text"
      },
      "source": [
        "<a href=\"https://colab.research.google.com/github/florise8/MY_FIRST_PYTHON/blob/main/CONDITIONAL_STATEMENTS.ipynb\" target=\"_parent\"><img src=\"https://colab.research.google.com/assets/colab-badge.svg\" alt=\"Open In Colab\"/></a>"
      ]
    },
    {
      "cell_type": "markdown",
      "source": [
        "CONDITIONAL STATEMENTS"
      ],
      "metadata": {
        "id": "tnRwYILc7WJL"
      }
    },
    {
      "cell_type": "code",
      "source": [
        "# Example 1\n",
        "Rain = input('Siri, is it raining today? Yes or No: ')\n",
        "if Rain == 'Yes':\n",
        "  print('I will not go to work')\n",
        "\n",
        "else:\n",
        "  print('I will go to work')"
      ],
      "metadata": {
        "colab": {
          "base_uri": "https://localhost:8080/"
        },
        "id": "YZMwJY-07jNR",
        "outputId": "f8715111-3619-47ae-adc2-8bf945e059cd"
      },
      "execution_count": null,
      "outputs": [
        {
          "output_type": "stream",
          "name": "stdout",
          "text": [
            "Siri, is it raining today? Yes or No: yes\n",
            "I will go to work\n"
          ]
        }
      ]
    },
    {
      "cell_type": "code",
      "source": [
        "# Example 2\n",
        "Score = int(input('Please enter your score: '))\n",
        "\n",
        "if Score <= 39:\n",
        "  print('You have a grade of F')\n",
        "elif Score >= 40 and Score <= 59:\n",
        "  print ('You have a grade of C')\n",
        "\n",
        "  elif Score >= 60 and Score <= 79:\n",
        "  print('You have a grade of B')\n",
        "  print('Keep up the good work')\n",
        "\n",
        "  elif Score >= 80 and Score <= 99:\n",
        "  print('You have a grade of A')\n",
        "  print('Keep up the good work')\n",
        "else:\n",
        "  print('You have a grade of A+')"
      ],
      "metadata": {
        "colab": {
          "base_uri": "https://localhost:8080/",
          "height": 106
        },
        "id": "lKRCWUTZ73Z6",
        "outputId": "a31400f6-aea2-4aa2-8337-2a9699bb0587"
      },
      "execution_count": null,
      "outputs": [
        {
          "output_type": "error",
          "ename": "SyntaxError",
          "evalue": "invalid syntax (<ipython-input-15-6ab693f6c54c>, line 9)",
          "traceback": [
            "\u001b[0;36m  File \u001b[0;32m\"<ipython-input-15-6ab693f6c54c>\"\u001b[0;36m, line \u001b[0;32m9\u001b[0m\n\u001b[0;31m    elif Score >= 60 and Score <= 79:\u001b[0m\n\u001b[0m    ^\u001b[0m\n\u001b[0;31mSyntaxError\u001b[0m\u001b[0;31m:\u001b[0m invalid syntax\n"
          ]
        }
      ]
    },
    {
      "cell_type": "code",
      "source": [
        "# Example 3\n",
        "Age = int(input('enter you age: '))\n",
        "if Age <= 15:\n",
        "  print('You fall under the children category')\n",
        "elif Age >= 16 and Age <= 22:\n",
        "  print ('You fall under the teenagers category')\n",
        "elif Age >= 23 and Age <= 49:\n",
        "  print ('You fall under the adult category')\n",
        "else:\n",
        "  print('You fall under the elders category')"
      ],
      "metadata": {
        "id": "PHKFivmp9seg"
      },
      "execution_count": null,
      "outputs": []
    },
    {
      "cell_type": "code",
      "source": [
        "# Example 4\n",
        "Number = int(input('enter a number: '))\n",
        "\n",
        "if Number % 2 == 0:\n",
        "  print(f'{Number} is an even number')\n",
        "else:\n",
        "    print(f'{Number} is an odd number')"
      ],
      "metadata": {
        "id": "MFOHI_RH9xmY"
      },
      "execution_count": null,
      "outputs": []
    },
    {
      "cell_type": "code",
      "source": [
        "# Example 5\n",
        "Vowels = ['aeiou']\n",
        "word = input('enter a word: ')\n",
        "First_letter = word[0]\n",
        "if First_letter in Vowels:\n",
        "  print('An' + ' ' + word)\n",
        "else:\n",
        "  print('A' + ' ' + word)"
      ],
      "metadata": {
        "id": "6FCnSBp896qn"
      },
      "execution_count": null,
      "outputs": []
    },
    {
      "cell_type": "markdown",
      "source": [
        "#Write a program that adds 10 to any number less than 10, and subtract 5 from any number greater than 10"
      ],
      "metadata": {
        "id": "8mp4iZAp-RTf"
      }
    },
    {
      "cell_type": "code",
      "source": [
        "Number = int(input('enter a number: '))\n",
        "\n",
        "if Number < 10:\n",
        "  print(Number + 10)\n",
        "else:\n",
        "  print(Number - 5)"
      ],
      "metadata": {
        "id": "egHneuFZ-QTG"
      },
      "execution_count": null,
      "outputs": []
    },
    {
      "cell_type": "code",
      "source": [
        "import random"
      ],
      "metadata": {
        "id": "W-ucXcgq_wrm"
      },
      "execution_count": null,
      "outputs": []
    },
    {
      "cell_type": "code",
      "source": [
        "Player1 = random.randint(1,6)\n",
        "Player2 = random.randint(1,6)\n",
        "\n",
        "if Player1 > Player2:\n",
        "  print(f'player1: {Player1} is greater than player2: {Player2}')\n",
        "  print('Player1 wins')\n",
        "elif Player1 < Player2:\n",
        "  print(f'player1: {Player1} is less than player2: {Player2}')\n",
        "  print('Player2 wins')\n",
        "else:\n",
        "  print(f'player1: {Player2} is same as player2: {Player1}')\n",
        "  print(\"It's a tie\")"
      ],
      "metadata": {
        "colab": {
          "base_uri": "https://localhost:8080/"
        },
        "id": "c8umxqQU_x1J",
        "outputId": "ff95950c-a3e0-432b-9af6-510d7266350a"
      },
      "execution_count": null,
      "outputs": [
        {
          "output_type": "stream",
          "name": "stdout",
          "text": [
            "player1: 3 is less than player2: 4\n",
            "Player2 wins\n"
          ]
        }
      ]
    },
    {
      "cell_type": "markdown",
      "source": [
        "NESTED CONDITIONAL STATEMENT: It is a conditional statement in a conditional statement."
      ],
      "metadata": {
        "id": "lopJpY45_D-J"
      }
    },
    {
      "cell_type": "code",
      "source": [
        "# Example: Write a program that takes gender and age of the user and\n",
        "# allows access to all the genders with age above 50.\n",
        "Gender = input('What is your Gender? Male or Female: ')\n",
        "Age = int(input('What is your age: '))\n",
        "\n",
        "if Gender == 'Female':\n",
        "  if Age >= 50:\n",
        "    print('Access Granted')\n",
        "  else:\n",
        "    print('Access Denied')\n",
        "elif Gender == 'Male':\n",
        "  if Age >= 50:\n",
        "    print('Access Granted')\n",
        "  else:\n",
        "    print('Access Denied')\n",
        "else:\n",
        "  print('wrong input')\n"
      ],
      "metadata": {
        "colab": {
          "base_uri": "https://localhost:8080/"
        },
        "id": "YXYbOdjN_Dcn",
        "outputId": "faa8274b-e1a0-4955-e1d1-dc67704499a6"
      },
      "execution_count": null,
      "outputs": [
        {
          "output_type": "stream",
          "name": "stdout",
          "text": [
            "What is your Gender? Male or Female: Female\n",
            "What is your age: 50\n",
            "Access Granted\n"
          ]
        }
      ]
    },
    {
      "cell_type": "code",
      "source": [
        "# Example: Write a program that takes gender and age of the user and\n",
        "# allows access to all the genders with age above 50.\n",
        "genders = ['Male', 'Female']\n",
        "Gender = input('What is your Gender? Male or Female: ')\n",
        "Age = int(input('What is your age: '))\n",
        "\n",
        "if Gender in genders:\n",
        "  if Age >=50:\n",
        "    print('Access Granted')\n",
        "  else:\n",
        "    print('Access Denied')\n",
        "else:\n",
        "  print('wrong input')"
      ],
      "metadata": {
        "colab": {
          "base_uri": "https://localhost:8080/"
        },
        "id": "qvOJrMD7EE0c",
        "outputId": "d02c5003-7479-492e-80a5-1eac993cffca"
      },
      "execution_count": null,
      "outputs": [
        {
          "output_type": "stream",
          "name": "stdout",
          "text": [
            "What is your Gender? Male or Female: Male\n",
            "What is your age: 30\n",
            "Access Denied\n"
          ]
        }
      ]
    },
    {
      "cell_type": "markdown",
      "source": [
        "## Example 2\n",
        "### Write a program that takes age and religion, then print out the following:\n",
        "### Under the age 18, and a Christian, go to Children Church\n",
        "###Above the age of 18, and a Christian, go to adult church\n",
        "### Above the age 18, and a Muslim, go to the Mosque"
      ],
      "metadata": {
        "id": "8HgFzwQvHt0j"
      }
    },
    {
      "cell_type": "code",
      "source": [
        "Religion = input('What is your Religion: ')\n",
        "Age = int(input('Kindly input your age: '))\n",
        "\n",
        "if Religion == 'Christian':\n",
        "  if Age <= 18:\n",
        "    print('Please go to the Children Church')\n",
        "  else:\n",
        "    print('Please go to the Adult Church')\n",
        "\n",
        "elif Religion == 'Muslim':\n",
        "  if Age >= 18:\n",
        "   print('You go to the Mosque')\n",
        "  else:\n",
        "    print('Pray at home')\n"
      ],
      "metadata": {
        "colab": {
          "base_uri": "https://localhost:8080/"
        },
        "id": "0D4uyEUpGj1I",
        "outputId": "33d1a9d5-eae2-4fb1-dbe6-a3765075390b"
      },
      "execution_count": null,
      "outputs": [
        {
          "output_type": "stream",
          "name": "stdout",
          "text": [
            "Kindly input your age:  13\n",
            "Pray at home\n"
          ]
        }
      ]
    },
    {
      "cell_type": "markdown",
      "source": [
        "Example 3:\n",
        "Create a finbuzz program that takes a number ans tells if the number is divisibleby 3 and 5 or by 3 or 5"
      ],
      "metadata": {
        "id": "qPYdJQNRR4uq"
      }
    },
    {
      "cell_type": "code",
      "source": [
        "Number = int(input('Enter a Number'))\n",
        "if Number % 3 == 0:\n",
        " if Number % 5 == 0:\n",
        "  print(f'{Number} is divisible by 3 and 5')\n",
        " else:\n",
        "    print(f'{Number} is divisible by 3')\n",
        "elif Number % 5 == 0:\n",
        "  if Number % 3 == 0:\n",
        "    print(f'{number} is divisible by 5 and 3')\n",
        "  else:\n",
        "    print(f'{Number} is divisible by 5')\n",
        "else:\n",
        "    print(f'{Number} is not divisible by 3 or 5')"
      ],
      "metadata": {
        "colab": {
          "base_uri": "https://localhost:8080/"
        },
        "id": "wHAjf05CRWNz",
        "outputId": "e80a3f70-0f07-45ad-e01e-ed0cf1c5990f"
      },
      "execution_count": null,
      "outputs": [
        {
          "output_type": "stream",
          "name": "stdout",
          "text": [
            "Enter a Number9\n",
            "9 is divisible by 3\n"
          ]
        }
      ]
    },
    {
      "cell_type": "markdown",
      "source": [
        "Exercise 4:\n",
        "write a course advisory program. That takes name and total percentage of the user.\n",
        "* if your total percentage is below 20, advice to withdraw\n",
        "* if your total percentag is btw 20 and 40, advice to study art courses\n",
        "* if your total percentage is btw 40 and 70, advice to study social science\n",
        "* if your total percentage is above 70, advice to study sciences"
      ],
      "metadata": {
        "id": "hbnRNUs5WVoU"
      }
    },
    {
      "cell_type": "code",
      "source": [
        "# Course Advisor Program\n",
        "Name = input('What is your Name: ')\n",
        "Score = int(input('What is your total percentage: '))\n",
        "\n",
        "if Score < 20:\n",
        "  print(f'{Name} You are advised to withdraw')\n",
        "elif Score >= 20 and Score <= 40:\n",
        "\n",
        "    print(f'{Name} You are advised to study an Art Course')\n",
        "elif Score  >= 40 and Score  <= 70:\n",
        "\n",
        "    print(f'{Name} you are advised to study a Social Science Course')\n",
        "elif Score  >= 70:\n",
        "\n",
        "    print(f'{Name} You are advised to study a Sciences Course')\n",
        "else:\n",
        "    print('Wrong input')"
      ],
      "metadata": {
        "colab": {
          "base_uri": "https://localhost:8080/"
        },
        "id": "2BJrHKGGVizg",
        "outputId": "da2f684c-6e00-498c-a71f-a04d2a41263b"
      },
      "execution_count": null,
      "outputs": [
        {
          "output_type": "stream",
          "name": "stdout",
          "text": [
            "What is your Name: paul\n",
            "What is your total percentage: 57\n",
            "paul you are advised to study a Social Science Course\n"
          ]
        }
      ]
    },
    {
      "cell_type": "code",
      "source": [
        "Fruits = ['apple','peach','pear','banana']\n",
        "for fruit in Fruits:\n",
        "  print(fruit)\n",
        "\n"
      ],
      "metadata": {
        "colab": {
          "base_uri": "https://localhost:8080/"
        },
        "id": "kaJm7aHBE5E6",
        "outputId": "546dfe54-9ed0-4c0a-b862-6d77b80c8bb4"
      },
      "execution_count": null,
      "outputs": [
        {
          "output_type": "stream",
          "name": "stdout",
          "text": [
            "apple\n",
            "peach\n",
            "pear\n",
            "banana\n"
          ]
        }
      ]
    }
  ]
}