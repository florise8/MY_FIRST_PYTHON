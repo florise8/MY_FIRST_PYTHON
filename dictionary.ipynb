{
  "nbformat": 4,
  "nbformat_minor": 0,
  "metadata": {
    "colab": {
      "provenance": [],
      "authorship_tag": "ABX9TyP1X7YVF6+gYkq2/T1rlkaA",
      "include_colab_link": true
    },
    "kernelspec": {
      "name": "python3",
      "display_name": "Python 3"
    },
    "language_info": {
      "name": "python"
    }
  },
  "cells": [
    {
      "cell_type": "markdown",
      "metadata": {
        "id": "view-in-github",
        "colab_type": "text"
      },
      "source": [
        "<a href=\"https://colab.research.google.com/github/florise8/MY_FIRST_PYTHON/blob/main/dictionary.ipynb\" target=\"_parent\"><img src=\"https://colab.research.google.com/assets/colab-badge.svg\" alt=\"Open In Colab\"/></a>"
      ]
    },
    {
      "cell_type": "markdown",
      "source": [
        "DICTIONARY\n",
        "* Ordered\n",
        "* Mutable\n",
        "* Indexed\n",
        "* Does not allow for duplicate"
      ],
      "metadata": {
        "id": "KRpTRMfe3FHC"
      }
    },
    {
      "cell_type": "code",
      "execution_count": null,
      "metadata": {
        "colab": {
          "base_uri": "https://localhost:8080/"
        },
        "id": "3z1LaIZg2nSZ",
        "outputId": "3da3e1a5-031a-4e11-e2ef-226a965c81f6"
      },
      "outputs": [
        {
          "output_type": "execute_result",
          "data": {
            "text/plain": [
              "{'Name': 'Lola', 'Course': 'Data Science', 'Age': 20, 'Hobby': 'Movies'}"
            ]
          },
          "metadata": {},
          "execution_count": 1
        }
      ],
      "source": [
        "my_dict = {'Name':'Lola',\n",
        "           'Course':'Data Science',\n",
        "           'Age':20,\n",
        "           'Hobby':'Movies'} #First exercise\n",
        "\n",
        "my_dict"
      ]
    },
    {
      "cell_type": "code",
      "source": [
        "#To see only the keys....\n",
        "\n",
        "my_dict.keys()"
      ],
      "metadata": {
        "colab": {
          "base_uri": "https://localhost:8080/"
        },
        "id": "5IIMqelZ3UyA",
        "outputId": "b0a6c1e9-ab15-4c6c-dc37-27219008d098"
      },
      "execution_count": null,
      "outputs": [
        {
          "output_type": "execute_result",
          "data": {
            "text/plain": [
              "dict_keys(['Name', 'Course', 'Age', 'Hobby'])"
            ]
          },
          "metadata": {},
          "execution_count": 2
        }
      ]
    },
    {
      "cell_type": "code",
      "source": [
        "#To see only the values\n",
        "my_dict.values()"
      ],
      "metadata": {
        "colab": {
          "base_uri": "https://localhost:8080/"
        },
        "id": "lxj1eXKA3w-Q",
        "outputId": "cb149a89-c670-45ea-edba-f0159aac664b"
      },
      "execution_count": null,
      "outputs": [
        {
          "output_type": "execute_result",
          "data": {
            "text/plain": [
              "dict_values(['Lola', 'Data Science', 20, 'Movies'])"
            ]
          },
          "metadata": {},
          "execution_count": 3
        }
      ]
    },
    {
      "cell_type": "code",
      "source": [
        "#To check for the length of the dictionary\n",
        "\n",
        "len(my_dict)"
      ],
      "metadata": {
        "colab": {
          "base_uri": "https://localhost:8080/"
        },
        "id": "YIPpuDHo34ag",
        "outputId": "422ab674-ea0a-4061-d0c4-178f8a5b8d2c"
      },
      "execution_count": null,
      "outputs": [
        {
          "output_type": "execute_result",
          "data": {
            "text/plain": [
              "4"
            ]
          },
          "metadata": {},
          "execution_count": 4
        }
      ]
    },
    {
      "cell_type": "code",
      "source": [
        "# Adding State\n",
        "my_dict['State'] = 'Ondo'\n",
        "\n",
        "my_dict"
      ],
      "metadata": {
        "colab": {
          "base_uri": "https://localhost:8080/"
        },
        "id": "Xx6hVLjt39x1",
        "outputId": "83dae6b4-fd45-4700-d77e-880efa5fd910"
      },
      "execution_count": null,
      "outputs": [
        {
          "output_type": "execute_result",
          "data": {
            "text/plain": [
              "{'Name': 'Lola',\n",
              " 'Course': 'Data Science',\n",
              " 'Age': 20,\n",
              " 'Hobby': 'Movies',\n",
              " 'Region': 'West',\n",
              " 'State': 'Ondo'}"
            ]
          },
          "metadata": {},
          "execution_count": 13
        }
      ]
    },
    {
      "cell_type": "code",
      "source": [
        "# Adding region\n",
        "my_dict['Region'] = 'West'\n",
        "\n",
        "my_dict"
      ],
      "metadata": {
        "colab": {
          "base_uri": "https://localhost:8080/"
        },
        "id": "2s49wdjL4Ilv",
        "outputId": "885486ed-4ae6-4ee2-be14-5f3882dbbaa8"
      },
      "execution_count": null,
      "outputs": [
        {
          "output_type": "execute_result",
          "data": {
            "text/plain": [
              "{'Name': 'Lola',\n",
              " 'Course': 'Data Science',\n",
              " 'Age': 20,\n",
              " 'Hobby': 'Movies',\n",
              " 'Region': 'West',\n",
              " 'State': 'Ondo'}"
            ]
          },
          "metadata": {},
          "execution_count": 14
        }
      ]
    },
    {
      "cell_type": "code",
      "source": [
        "# Removing State\n",
        "my_dict.pop('State')\n",
        "\n",
        "my_dict\n"
      ],
      "metadata": {
        "colab": {
          "base_uri": "https://localhost:8080/"
        },
        "id": "RbyoN7nf4X4X",
        "outputId": "f8180a1e-8f59-4506-eb81-6205e77df841"
      },
      "execution_count": null,
      "outputs": [
        {
          "output_type": "execute_result",
          "data": {
            "text/plain": [
              "{'Name': 'Lola',\n",
              " 'Course': 'Data Science',\n",
              " 'Age': 20,\n",
              " 'Hobby': 'Movies',\n",
              " 'Region': 'West'}"
            ]
          },
          "metadata": {},
          "execution_count": 15
        }
      ]
    },
    {
      "cell_type": "code",
      "source": [
        "# Remeve Region\n",
        "my_dict.pop('Region')\n",
        "my_dict"
      ],
      "metadata": {
        "colab": {
          "base_uri": "https://localhost:8080/"
        },
        "id": "gOLk_gCU5QZ0",
        "outputId": "233a3ab9-a7bc-4936-ff1b-a377729dec5c"
      },
      "execution_count": null,
      "outputs": [
        {
          "output_type": "execute_result",
          "data": {
            "text/plain": [
              "{'Name': 'Lola', 'Course': 'Data Science', 'Age': 20, 'Hobby': 'Movies'}"
            ]
          },
          "metadata": {},
          "execution_count": 16
        }
      ]
    },
    {
      "cell_type": "code",
      "source": [
        "Flow_Fashion_World = {'Color':['red','blue','green','purple','maroon'],\n",
        "                     'Brand':['Gucci','D&G','Chanel','Armani','Zara','E-money'],\n",
        "                     'Products':['caps','blouse','trousers','belt','perfumes','underwears']}\n",
        "\n",
        "Flow_Fashion_World"
      ],
      "metadata": {
        "colab": {
          "base_uri": "https://localhost:8080/"
        },
        "id": "3-gOcOPX5kzu",
        "outputId": "50e8648d-922f-4ca4-86c9-c0197d58da0c"
      },
      "execution_count": null,
      "outputs": [
        {
          "output_type": "execute_result",
          "data": {
            "text/plain": [
              "{'Color': ['red', 'blue', 'green', 'purple', 'maroon'],\n",
              " 'Brand': ['Gucci', 'D&G', 'Chanel', 'Armani', 'Zara', 'E-money'],\n",
              " 'Products': ['caps', 'blouse', 'trousers', 'belt', 'perfumes', 'underwears']}"
            ]
          },
          "metadata": {},
          "execution_count": 18
        }
      ]
    },
    {
      "cell_type": "code",
      "source": [
        "Flow_Fashion_World['Color'] # checking the value of colour"
      ],
      "metadata": {
        "colab": {
          "base_uri": "https://localhost:8080/"
        },
        "id": "zirzfQDM5xRI",
        "outputId": "01dfa4c7-a35c-42c4-c352-b9ebdac00430"
      },
      "execution_count": null,
      "outputs": [
        {
          "output_type": "execute_result",
          "data": {
            "text/plain": [
              "['red', 'blue', 'green', 'purple', 'maroon']"
            ]
          },
          "metadata": {},
          "execution_count": 19
        }
      ]
    },
    {
      "cell_type": "code",
      "source": [
        "Flow_Fashion_World['Brand'][3] # checking the value of the brand"
      ],
      "metadata": {
        "colab": {
          "base_uri": "https://localhost:8080/",
          "height": 35
        },
        "id": "xikqnQIn5-Ne",
        "outputId": "add4b753-3ecc-47e1-fb16-4fdb12a7c26f"
      },
      "execution_count": null,
      "outputs": [
        {
          "output_type": "execute_result",
          "data": {
            "text/plain": [
              "'Armani'"
            ],
            "application/vnd.google.colaboratory.intrinsic+json": {
              "type": "string"
            }
          },
          "metadata": {},
          "execution_count": 20
        }
      ]
    },
    {
      "cell_type": "code",
      "source": [
        "print(Flow_Fashion_World['Color'][3])\n",
        "print(Flow_Fashion_World['Brand'][2])\n",
        "print(Flow_Fashion_World ['Products'][3])"
      ],
      "metadata": {
        "colab": {
          "base_uri": "https://localhost:8080/"
        },
        "id": "QpJrqJpc6HEh",
        "outputId": "73518688-12d8-4ad4-a7f6-4e2d0d0fad02"
      },
      "execution_count": null,
      "outputs": [
        {
          "output_type": "stream",
          "name": "stdout",
          "text": [
            "purple\n",
            "Chanel\n",
            "belt\n"
          ]
        }
      ]
    },
    {
      "cell_type": "code",
      "source": [
        "#Exercise 2\n",
        "Dunamis_Festac = {'Member1':{'Name':'Emmanuel',\n",
        "                     'Age':30,\n",
        "                     'Department':'Ushering'},\n",
        "          'Member2':{'Name':'Christy',\n",
        "                     'Age':28,\n",
        "                     'Department':'Sanitation'},\n",
        "          'Member3':{'Name':'Augustine',\n",
        "                     'Age':56,\n",
        "                     'Department':'Choir'}\n",
        "           }\n"
      ],
      "metadata": {
        "id": "LUBg-PHa6cWc"
      },
      "execution_count": null,
      "outputs": []
    },
    {
      "cell_type": "code",
      "source": [
        "Dunamis_Festac['Member2']['Age']"
      ],
      "metadata": {
        "colab": {
          "base_uri": "https://localhost:8080/"
        },
        "id": "z6YWYI3A62Xd",
        "outputId": "83d030f2-a410-4773-f640-0e3df6849831"
      },
      "execution_count": null,
      "outputs": [
        {
          "output_type": "execute_result",
          "data": {
            "text/plain": [
              "28"
            ]
          },
          "metadata": {},
          "execution_count": 25
        }
      ]
    },
    {
      "cell_type": "code",
      "source": [
        "Dunamis_Festac['Member3']['Department']"
      ],
      "metadata": {
        "colab": {
          "base_uri": "https://localhost:8080/",
          "height": 35
        },
        "id": "mIahJTa269rk",
        "outputId": "7f7ea4e4-96f7-49c2-e21c-6d61d45a16d8"
      },
      "execution_count": null,
      "outputs": [
        {
          "output_type": "execute_result",
          "data": {
            "text/plain": [
              "'Choir'"
            ],
            "application/vnd.google.colaboratory.intrinsic+json": {
              "type": "string"
            }
          },
          "metadata": {},
          "execution_count": 26
        }
      ]
    },
    {
      "cell_type": "code",
      "source": [
        "# Exercise 3\n",
        "gomycode = {\"Data Science\" : {\"Name\": \"Lucy\",\n",
        "                              \"Age\": 17,\n",
        "                              \"Month\": \"Febuary\"},\n",
        "            \"Software Engineering\": {\"Name\": \"Praise\",\n",
        "                                     \"Age\": 21,\n",
        "                                     \"Month\": \"March\"},\n",
        "            \"Web Development\": {\"Name\": \"Jane\",\n",
        "                                \"Age\": 20,\n",
        "                              \"Month\": \"June\"},\n",
        "            \"Cyber Security\": {\"Name\": \"Dickson\",\n",
        "                               \"Age\": 32,\n",
        "                               \"Month\": \"September\"}\n",
        "            }"
      ],
      "metadata": {
        "id": "PRcjqBKc7Dxh"
      },
      "execution_count": null,
      "outputs": []
    },
    {
      "cell_type": "code",
      "source": [
        "#Retrieve all the keys\n",
        "gomycode.keys()"
      ],
      "metadata": {
        "colab": {
          "base_uri": "https://localhost:8080/"
        },
        "id": "DhJyqbsJ_Vkf",
        "outputId": "e95e17cb-6a53-4bd2-ac19-3ee28f79fba5"
      },
      "execution_count": null,
      "outputs": [
        {
          "output_type": "execute_result",
          "data": {
            "text/plain": [
              "dict_keys(['Data Science', 'Software Engineering', 'Web Development', 'Cyber Security'])"
            ]
          },
          "metadata": {},
          "execution_count": 3
        }
      ]
    },
    {
      "cell_type": "code",
      "source": [
        "#Retrieve all the values in Data science\n",
        "gomycode['Data Science'].values()"
      ],
      "metadata": {
        "colab": {
          "base_uri": "https://localhost:8080/"
        },
        "id": "GF4Dv7aq_hV1",
        "outputId": "10a7eefe-cc96-4c3c-8fb0-92fc495ee35f"
      },
      "execution_count": null,
      "outputs": [
        {
          "output_type": "execute_result",
          "data": {
            "text/plain": [
              "dict_values(['Lucy', 17, 'Febuary'])"
            ]
          },
          "metadata": {},
          "execution_count": 4
        }
      ]
    },
    {
      "cell_type": "code",
      "source": [
        "#Retrieve all the values in Web Development\n",
        "gomycode['Web Development'].values()"
      ],
      "metadata": {
        "colab": {
          "base_uri": "https://localhost:8080/"
        },
        "id": "TLCpfmiz_zKS",
        "outputId": "6ade0b89-ea0a-4ef6-bf87-0d072bffdb5d"
      },
      "execution_count": null,
      "outputs": [
        {
          "output_type": "execute_result",
          "data": {
            "text/plain": [
              "dict_values(['Jane', 20, 'June'])"
            ]
          },
          "metadata": {},
          "execution_count": 5
        }
      ]
    },
    {
      "cell_type": "code",
      "source": [
        "#Retrieve month in Data science\n",
        "gomycode['Data Science']['Month']"
      ],
      "metadata": {
        "colab": {
          "base_uri": "https://localhost:8080/",
          "height": 35
        },
        "id": "3QdxksZUADTB",
        "outputId": "073d4937-2455-4e79-c079-a0cabdb674fd"
      },
      "execution_count": null,
      "outputs": [
        {
          "output_type": "execute_result",
          "data": {
            "text/plain": [
              "'Febuary'"
            ],
            "application/vnd.google.colaboratory.intrinsic+json": {
              "type": "string"
            }
          },
          "metadata": {},
          "execution_count": 6
        }
      ]
    },
    {
      "cell_type": "code",
      "source": [
        "#Retrieve Month in Web Development\n",
        "gomycode['Web Development']['Month']"
      ],
      "metadata": {
        "colab": {
          "base_uri": "https://localhost:8080/",
          "height": 35
        },
        "id": "rZ8JseN2AdLJ",
        "outputId": "96cf4ae3-8640-42d4-b183-562bab4234d6"
      },
      "execution_count": null,
      "outputs": [
        {
          "output_type": "execute_result",
          "data": {
            "text/plain": [
              "'June'"
            ],
            "application/vnd.google.colaboratory.intrinsic+json": {
              "type": "string"
            }
          },
          "metadata": {},
          "execution_count": 7
        }
      ]
    },
    {
      "cell_type": "code",
      "source": [
        "#Retrieve age in Software Engineering\n",
        "gomycode['Software Engineering']['Age']"
      ],
      "metadata": {
        "colab": {
          "base_uri": "https://localhost:8080/"
        },
        "id": "WoGauaM-ArOh",
        "outputId": "0badccad-3f34-4fb1-b5d3-eabbe31f008d"
      },
      "execution_count": null,
      "outputs": [
        {
          "output_type": "execute_result",
          "data": {
            "text/plain": [
              "21"
            ]
          },
          "metadata": {},
          "execution_count": 8
        }
      ]
    },
    {
      "cell_type": "code",
      "source": [
        "#Retrieve Name in Cyber Security\n",
        "gomycode['Cyber Security']['Name']"
      ],
      "metadata": {
        "colab": {
          "base_uri": "https://localhost:8080/",
          "height": 35
        },
        "id": "BrVYq8DGA3R1",
        "outputId": "7a237077-30d2-4810-82f9-6b8798ee47cb"
      },
      "execution_count": null,
      "outputs": [
        {
          "output_type": "execute_result",
          "data": {
            "text/plain": [
              "'Dickson'"
            ],
            "application/vnd.google.colaboratory.intrinsic+json": {
              "type": "string"
            }
          },
          "metadata": {},
          "execution_count": 9
        }
      ]
    }
  ]
}