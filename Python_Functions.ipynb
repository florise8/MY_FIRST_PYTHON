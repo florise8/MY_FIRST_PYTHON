{
  "nbformat": 4,
  "nbformat_minor": 0,
  "metadata": {
    "colab": {
      "provenance": [],
      "authorship_tag": "ABX9TyNVMUlrDmvcctjXxtaLTv5t",
      "include_colab_link": true
    },
    "kernelspec": {
      "name": "python3",
      "display_name": "Python 3"
    },
    "language_info": {
      "name": "python"
    }
  },
  "cells": [
    {
      "cell_type": "markdown",
      "metadata": {
        "id": "view-in-github",
        "colab_type": "text"
      },
      "source": [
        "<a href=\"https://colab.research.google.com/github/florise8/MY_FIRST_PYTHON/blob/main/Python_Functions.ipynb\" target=\"_parent\"><img src=\"https://colab.research.google.com/assets/colab-badge.svg\" alt=\"Open In Colab\"/></a>"
      ]
    },
    {
      "cell_type": "markdown",
      "source": [
        "FUNCTIONS\n",
        "* def keyword function\n",
        "* Lambda function"
      ],
      "metadata": {
        "id": "YRr161kzqIDg"
      }
    },
    {
      "cell_type": "markdown",
      "source": [
        "Def Keyword Function"
      ],
      "metadata": {
        "id": "5cJbzKkeqbuk"
      }
    },
    {
      "cell_type": "code",
      "source": [
        "def Donut_Recipe (sugar, flour, Milk, Egg, yeast):\n",
        "  return f'sugar: {sugar} cup, flour: {flour} cup, yeast: {yeast} Tpsn, Milk: {Milk} cup, Egg: {Egg} whole egg'"
      ],
      "metadata": {
        "id": "z4-6KLAoqjrc"
      },
      "execution_count": null,
      "outputs": []
    },
    {
      "cell_type": "code",
      "source": [
        "Donut_Recipe(1, 2, 1/4, 1,1)"
      ],
      "metadata": {
        "colab": {
          "base_uri": "https://localhost:8080/",
          "height": 35
        },
        "id": "oO_RFlbBrddR",
        "outputId": "d9c09f9c-b232-43b7-ad00-e7b0da0d1dc9"
      },
      "execution_count": null,
      "outputs": [
        {
          "output_type": "execute_result",
          "data": {
            "text/plain": [
              "'sugar: 1 cup, flour: 2 cup, yeast: 1 Tpsn, Milk: 0.25 cup, Egg: 1 whole egg'"
            ],
            "application/vnd.google.colaboratory.intrinsic+json": {
              "type": "string"
            }
          },
          "metadata": {},
          "execution_count": 4
        }
      ]
    },
    {
      "cell_type": "code",
      "source": [
        "def adder (a,b):\n",
        "  result = a+b\n",
        "  result = result*2\n",
        "  return result\n"
      ],
      "metadata": {
        "id": "aCebWqs9ru25"
      },
      "execution_count": null,
      "outputs": []
    },
    {
      "cell_type": "code",
      "source": [
        "adder(3, 5)"
      ],
      "metadata": {
        "colab": {
          "base_uri": "https://localhost:8080/"
        },
        "id": "kWbPKEW8r6L_",
        "outputId": "4f7f5307-dacc-42f1-a0f3-81e51fbe36a0"
      },
      "execution_count": null,
      "outputs": [
        {
          "output_type": "execute_result",
          "data": {
            "text/plain": [
              "16"
            ]
          },
          "metadata": {},
          "execution_count": 8
        }
      ]
    },
    {
      "cell_type": "code",
      "source": [
        "def name(first_name, last_name, age):\n",
        "  print(f'my name is {first_name} {last_name} I am {age} years old')\n",
        "\n",
        "name('Florence', 'Dube', 35)"
      ],
      "metadata": {
        "colab": {
          "base_uri": "https://localhost:8080/"
        },
        "id": "AZCKwYj-stC7",
        "outputId": "61b16413-e092-47ff-ea08-b53f174c3221"
      },
      "execution_count": null,
      "outputs": [
        {
          "output_type": "stream",
          "name": "stdout",
          "text": [
            "my name is Florence Dube I am 35 years old\n"
          ]
        }
      ]
    },
    {
      "cell_type": "code",
      "source": [
        "name('Oge', 'Francis', 40)"
      ],
      "metadata": {
        "colab": {
          "base_uri": "https://localhost:8080/"
        },
        "id": "KLhfDu7us-KG",
        "outputId": "cfac4ac2-0763-455c-81a6-00223f5c963c"
      },
      "execution_count": null,
      "outputs": [
        {
          "output_type": "stream",
          "name": "stdout",
          "text": [
            "my name is Oge Francis I am 40 years old\n"
          ]
        }
      ]
    },
    {
      "cell_type": "markdown",
      "source": [
        "ARBITARY ARGUMENTS"
      ],
      "metadata": {
        "id": "qwl6Lvb9uIYv"
      }
    },
    {
      "cell_type": "code",
      "source": [
        "#Arbitrary Arguments\n",
        "def my_function(*kids): # asteric allows for multiple input\n",
        "  print(\"My youngest child is \" + kids[2]) # want to see the position of third child\n",
        "\n",
        "my_function(\"Emil\", \"Tobias\", \"Linus\")\n",
        "\n"
      ],
      "metadata": {
        "colab": {
          "base_uri": "https://localhost:8080/"
        },
        "id": "_i1E0vzduMRT",
        "outputId": "cbcda72f-ba24-41cc-a5ba-106fdb34c211"
      },
      "execution_count": null,
      "outputs": [
        {
          "output_type": "stream",
          "name": "stdout",
          "text": [
            "My youngest child is Linus\n"
          ]
        }
      ]
    },
    {
      "cell_type": "code",
      "source": [
        "def my_cars(*car):\n",
        "  print('my favourite car is: ' + car[0])\n",
        "\n",
        "my_cars('Toyota', 'Benz', 'Audi')\n"
      ],
      "metadata": {
        "colab": {
          "base_uri": "https://localhost:8080/"
        },
        "id": "BFZQlG6oBPYo",
        "outputId": "35500a72-24d6-443d-8f73-d881fb7522bf"
      },
      "execution_count": null,
      "outputs": [
        {
          "output_type": "stream",
          "name": "stdout",
          "text": [
            "my favourite car is: Toyota\n"
          ]
        }
      ]
    },
    {
      "cell_type": "code",
      "source": [
        "convert_temp(10)"
      ],
      "metadata": {
        "colab": {
          "base_uri": "https://localhost:8080/"
        },
        "id": "TPeLzHLyGiLH",
        "outputId": "dbe0ecc3-8c7b-42ea-8328-340bd121622f"
      },
      "execution_count": null,
      "outputs": [
        {
          "output_type": "execute_result",
          "data": {
            "text/plain": [
              "50.0"
            ]
          },
          "metadata": {},
          "execution_count": 20
        }
      ]
    },
    {
      "cell_type": "markdown",
      "source": [
        "FUNCTION THAT MULTIPLY NUMBERS"
      ],
      "metadata": {
        "id": "-XPXBOSUvlOg"
      }
    },
    {
      "cell_type": "code",
      "source": [
        "def multi(x): # x can be any number\n",
        "  return 5 * x\n",
        "\n",
        "print(multi(3))\n",
        "print(multi(5))\n",
        "print(multi(9))"
      ],
      "metadata": {
        "colab": {
          "base_uri": "https://localhost:8080/"
        },
        "id": "yEin8RRPvWXo",
        "outputId": "691eab02-1562-4d94-f1f5-dee8c3dca8e0"
      },
      "execution_count": null,
      "outputs": [
        {
          "output_type": "stream",
          "name": "stdout",
          "text": [
            "15\n",
            "25\n",
            "45\n"
          ]
        }
      ]
    },
    {
      "cell_type": "code",
      "source": [
        "def multiple(y):\n",
        "  return 2 * y + 10\n",
        "\n",
        "print(multiple(1))\n",
        "print(multiple(2))\n",
        "print(multiple(3))"
      ],
      "metadata": {
        "colab": {
          "base_uri": "https://localhost:8080/"
        },
        "id": "fIi5sgWFCCBQ",
        "outputId": "5a3e5586-d8f5-44d5-f789-c5ee8b25d519"
      },
      "execution_count": null,
      "outputs": [
        {
          "output_type": "stream",
          "name": "stdout",
          "text": [
            "12\n",
            "14\n",
            "16\n"
          ]
        }
      ]
    },
    {
      "cell_type": "markdown",
      "source": [
        "FUNCTION AND LOOP"
      ],
      "metadata": {
        "id": "ZqwHuQGvwTE0"
      }
    },
    {
      "cell_type": "code",
      "source": [
        "Party_Guest = ['Lola', 'Ogechi', 'Kufre', 'Florence', 'Grace', 'David'] # using a List\n",
        "def party(name):\n",
        "  greet = f'{name}, You Are Welcome to Flax Warden Party'\n",
        "  return  greet\n",
        "for i in Party_Guest:\n",
        "  print(party(i))"
      ],
      "metadata": {
        "id": "QIh9d4eKwQps"
      },
      "execution_count": null,
      "outputs": []
    },
    {
      "cell_type": "code",
      "source": [
        "wedding = ['joy', 'chi']\n",
        "def event(n):\n",
        "  greet = f'{n}, You Are Welcome to Our Wedding'\n",
        "  return greet\n",
        "for i in wedding:\n",
        "  print(event(i))"
      ],
      "metadata": {
        "colab": {
          "base_uri": "https://localhost:8080/"
        },
        "id": "KGALlt18C9mQ",
        "outputId": "9e2deab4-ddb6-4cd3-ada6-c5f2c11de2da"
      },
      "execution_count": null,
      "outputs": [
        {
          "output_type": "stream",
          "name": "stdout",
          "text": [
            "joy, You Are Welcome to Our Wedding\n",
            "chi, You Are Welcome to Our Wedding\n"
          ]
        }
      ]
    },
    {
      "cell_type": "code",
      "source": [
        "def add_plenty(*num): # to add as many numbers as possible\n",
        "  answer = 0 # using for loop to add\n",
        "  for i in num:\n",
        "    answer = answer + i\n",
        "  return answer"
      ],
      "metadata": {
        "id": "0d-F11bsydV4"
      },
      "execution_count": null,
      "outputs": []
    },
    {
      "cell_type": "code",
      "source": [
        "add_plenty(34,45,12,24,32)"
      ],
      "metadata": {
        "colab": {
          "base_uri": "https://localhost:8080/"
        },
        "id": "LhkLb9qZzfdj",
        "outputId": "e5bf6dc1-2d83-4f7f-cbbf-1ac0908762be"
      },
      "execution_count": null,
      "outputs": [
        {
          "output_type": "execute_result",
          "data": {
            "text/plain": [
              "147"
            ]
          },
          "metadata": {},
          "execution_count": 27
        }
      ]
    },
    {
      "cell_type": "code",
      "source": [
        "def high_Low(num1, num2):\n",
        "  if num1 > num2:\n",
        "    return f'{num1} is greater than {num2}'\n",
        "  elif num1 < num2:\n",
        "    return f'{num1} is less than {num2}'\n",
        "  else:\n",
        "    return f'{num1} is equal to {num2}'\n"
      ],
      "metadata": {
        "id": "1y46QioM1JVH"
      },
      "execution_count": null,
      "outputs": []
    },
    {
      "cell_type": "code",
      "source": [
        "high_Low(8, 4)"
      ],
      "metadata": {
        "colab": {
          "base_uri": "https://localhost:8080/",
          "height": 35
        },
        "collapsed": true,
        "id": "H79lIc7D10lS",
        "outputId": "112f6429-3a3c-4e02-9ce4-f8cb1c28dcad"
      },
      "execution_count": null,
      "outputs": [
        {
          "output_type": "execute_result",
          "data": {
            "text/plain": [
              "'8 is greater than 4'"
            ],
            "application/vnd.google.colaboratory.intrinsic+json": {
              "type": "string"
            }
          },
          "metadata": {},
          "execution_count": 29
        }
      ]
    },
    {
      "cell_type": "code",
      "source": [
        "# convert Tempreture\n",
        "\n",
        "def convert_temp(Tf, Tc):\n",
        "  if Tc > 0:\n",
        "   return (Tf - 32) * 5/9\n",
        "  elif Tf > 0:\n",
        "    return (Tc * 9/5) + 32\n",
        "  else:\n",
        "    return 'invalid input'"
      ],
      "metadata": {
        "id": "_w2nIUbbJiX3"
      },
      "execution_count": null,
      "outputs": []
    },
    {
      "cell_type": "code",
      "source": [
        "convert_temp(0, 100)"
      ],
      "metadata": {
        "colab": {
          "base_uri": "https://localhost:8080/"
        },
        "id": "kX2xl0YcNK3M",
        "outputId": "6c12b5fc-2da2-4aca-8949-164371f7ed19"
      },
      "execution_count": null,
      "outputs": [
        {
          "output_type": "execute_result",
          "data": {
            "text/plain": [
              "-17.77777777777778"
            ]
          },
          "metadata": {},
          "execution_count": 24
        }
      ]
    },
    {
      "cell_type": "code",
      "source": [
        "high_Low(4, 8)"
      ],
      "metadata": {
        "colab": {
          "base_uri": "https://localhost:8080/",
          "height": 35
        },
        "id": "vL2Obckj16-3",
        "outputId": "3918db67-16c9-4292-bd74-148a1379c9d2"
      },
      "execution_count": null,
      "outputs": [
        {
          "output_type": "execute_result",
          "data": {
            "text/plain": [
              "'4 is less than 8'"
            ],
            "application/vnd.google.colaboratory.intrinsic+json": {
              "type": "string"
            }
          },
          "metadata": {},
          "execution_count": 30
        }
      ]
    },
    {
      "cell_type": "code",
      "source": [
        "high_Low(4, 4)"
      ],
      "metadata": {
        "colab": {
          "base_uri": "https://localhost:8080/",
          "height": 35
        },
        "id": "RYNqK7-Y2AD7",
        "outputId": "0d888784-379a-4669-f05b-4b135e5e78a4"
      },
      "execution_count": null,
      "outputs": [
        {
          "output_type": "execute_result",
          "data": {
            "text/plain": [
              "'4 is equal to 4'"
            ],
            "application/vnd.google.colaboratory.intrinsic+json": {
              "type": "string"
            }
          },
          "metadata": {},
          "execution_count": 31
        }
      ]
    },
    {
      "cell_type": "code",
      "source": [
        "# write a funtion that returns the smallest of three numbers when written together\n",
        "def smallest(a, b, c):\n",
        "  if a < b < c:\n",
        "    return f'{a} is the smallest number'\n",
        "  elif b < a < c:\n",
        "      return f'{b} is the smallest number'\n",
        "  else:\n",
        "    return f'{c} is the smallest number'\n"
      ],
      "metadata": {
        "id": "ZxaxoAMn2NXE"
      },
      "execution_count": null,
      "outputs": []
    },
    {
      "cell_type": "code",
      "source": [
        "smallest(11, 5, 1)"
      ],
      "metadata": {
        "colab": {
          "base_uri": "https://localhost:8080/",
          "height": 35
        },
        "id": "yOBtKZ0V6ArS",
        "outputId": "38b1411f-147c-42a6-a967-0c50b03b0050"
      },
      "execution_count": null,
      "outputs": [
        {
          "output_type": "execute_result",
          "data": {
            "text/plain": [
              "'1 is the smallest number'"
            ],
            "application/vnd.google.colaboratory.intrinsic+json": {
              "type": "string"
            }
          },
          "metadata": {},
          "execution_count": 66
        }
      ]
    },
    {
      "cell_type": "markdown",
      "source": [
        "Try and Except\n",
        "when writin"
      ],
      "metadata": {
        "id": "xNIVawZZ_blT"
      }
    },
    {
      "cell_type": "code",
      "source": [
        "# Using try and Except\n",
        "def divide (a, b):\n",
        "  try:\n",
        "    result = a / b\n",
        "    return result\n",
        "\n",
        "  except ZeroDivisionError: # defines your error message\n",
        "      print('you cannot divide by zero')"
      ],
      "metadata": {
        "id": "WXURjNgfBjXh"
      },
      "execution_count": null,
      "outputs": []
    },
    {
      "cell_type": "code",
      "source": [
        "divide(25, 5)"
      ],
      "metadata": {
        "colab": {
          "base_uri": "https://localhost:8080/"
        },
        "id": "0R6zvzDxCVVJ",
        "outputId": "85b4ca5b-2ae6-4ad0-8f7e-82f827fa96b8"
      },
      "execution_count": null,
      "outputs": [
        {
          "output_type": "execute_result",
          "data": {
            "text/plain": [
              "5.0"
            ]
          },
          "metadata": {},
          "execution_count": 69
        }
      ]
    },
    {
      "cell_type": "code",
      "source": [
        "divide(4, 0)"
      ],
      "metadata": {
        "colab": {
          "base_uri": "https://localhost:8080/"
        },
        "id": "NiUCijhMCjkM",
        "outputId": "beb9f278-b039-40c6-9267-a2b9d62a386f"
      },
      "execution_count": null,
      "outputs": [
        {
          "output_type": "stream",
          "name": "stdout",
          "text": [
            "you cannot divide by zero\n"
          ]
        }
      ]
    },
    {
      "cell_type": "code",
      "source": [
        "def number(x):\n",
        "  try:\n",
        "    result = x**2\n",
        "    return result\n",
        "  except TypeError: # helps define your error message\n",
        "    print('you cannot square a string')"
      ],
      "metadata": {
        "id": "Bb-3uFIiDD3w"
      },
      "execution_count": null,
      "outputs": []
    },
    {
      "cell_type": "code",
      "source": [
        "number('rep')"
      ],
      "metadata": {
        "colab": {
          "base_uri": "https://localhost:8080/"
        },
        "id": "Yco1y-3JELKP",
        "outputId": "d051d72a-0830-412f-b9c3-c0731085aa4c"
      },
      "execution_count": null,
      "outputs": [
        {
          "output_type": "stream",
          "name": "stdout",
          "text": [
            "you cannot square a string\n"
          ]
        }
      ]
    },
    {
      "cell_type": "code",
      "source": [
        "# There are 3 courses in a faculty,# Economics (HOD: Dr. Phillip)\n",
        "                                   # Psychology (HOD: Prof. Dan)\n",
        "                                   # Demography (HOD: Dr. Mike)\n",
        "# Write a python function that takes the first and last name, course and tells you the name of the HOD for a chosen course.\n",
        "# Output is (firstname, lastname, your HOD is HOD name.)\n"
      ],
      "metadata": {
        "id": "yt5lq7FrEwvf"
      },
      "execution_count": null,
      "outputs": []
    },
    {
      "cell_type": "code",
      "source": [
        "course_lecturer = {'Economics': 'Dr. Phillip', 'Psychology': 'Prof. Dan', 'Demography': 'Dr. Mike'}\n",
        "def get_lecturer(first_name, last_name, course):\n",
        "  try:\n",
        "    for key, value in course_lecturer.items():\n",
        "      if key == course:\n",
        "        print(f'{first_name} {last_name}, your HOD is {course_lecturer[course]}')\n",
        "  except KeyError:\n",
        "    print('course not found')\n"
      ],
      "metadata": {
        "id": "3_-rgAXxGBL4"
      },
      "execution_count": null,
      "outputs": []
    },
    {
      "cell_type": "code",
      "source": [
        "get_lecturer('Florence', 'Dube', 'Demography')"
      ],
      "metadata": {
        "colab": {
          "base_uri": "https://localhost:8080/"
        },
        "id": "V9-77jQDIaSz",
        "outputId": "1341cf25-06b7-45ce-87a6-6eb61d09dfcd"
      },
      "execution_count": null,
      "outputs": [
        {
          "output_type": "stream",
          "name": "stdout",
          "text": [
            "Florence Dube, your HOD is Dr. Mike\n"
          ]
        }
      ]
    },
    {
      "cell_type": "markdown",
      "source": [
        "LAMBDA FUNCTION"
      ],
      "metadata": {
        "id": "3HvCiQD1E85Z"
      }
    },
    {
      "cell_type": "code",
      "source": [
        "#using a lamda function define a function that adds two numbers\n",
        "add = lambda a,b: a+b"
      ],
      "metadata": {
        "id": "tXTdiTKvE4aS"
      },
      "execution_count": null,
      "outputs": []
    },
    {
      "cell_type": "code",
      "source": [
        "add(14,6)"
      ],
      "metadata": {
        "colab": {
          "base_uri": "https://localhost:8080/"
        },
        "id": "Z1k7Lcx8FUYN",
        "outputId": "9cf71c0d-bee0-41fc-a9d2-59be380f1180"
      },
      "execution_count": null,
      "outputs": [
        {
          "output_type": "execute_result",
          "data": {
            "text/plain": [
              "20"
            ]
          },
          "metadata": {},
          "execution_count": 4
        }
      ]
    },
    {
      "cell_type": "code",
      "source": [
        "greet_them = lambda name: print(f'Hello {name} how are you doing today?')"
      ],
      "metadata": {
        "id": "-3AVoIEFFqi9"
      },
      "execution_count": null,
      "outputs": []
    },
    {
      "cell_type": "code",
      "source": [
        "greet_them('Florence')"
      ],
      "metadata": {
        "colab": {
          "base_uri": "https://localhost:8080/"
        },
        "id": "u1CgMR19F4lM",
        "outputId": "d8b92285-848f-4bad-c130-2b37d1d42f78"
      },
      "execution_count": null,
      "outputs": [
        {
          "output_type": "stream",
          "name": "stdout",
          "text": [
            "Hello Florence how are you doing today?\n"
          ]
        }
      ]
    },
    {
      "cell_type": "code",
      "source": [
        "# using a loop with lambda\n",
        "Party_Guest = ['Lola', 'Ogechi', 'Kufre', 'Florence', 'Grace', 'David']\n",
        "\n",
        "greet_them = lambda name: f'Hello {name} how are you doing today?'\n",
        "\n",
        "for i in Party_Guest:\n",
        "  print(greet_them(i))"
      ],
      "metadata": {
        "colab": {
          "base_uri": "https://localhost:8080/"
        },
        "collapsed": true,
        "id": "uDPnd2btGJkf",
        "outputId": "a09c6c15-0e00-44da-fa60-a59d856f4f9f"
      },
      "execution_count": null,
      "outputs": [
        {
          "output_type": "stream",
          "name": "stdout",
          "text": [
            "Hello Lola how are you doing today?\n",
            "Hello Ogechi how are you doing today?\n",
            "Hello Kufre how are you doing today?\n",
            "Hello Florence how are you doing today?\n",
            "Hello Grace how are you doing today?\n",
            "Hello David how are you doing today?\n"
          ]
        }
      ]
    },
    {
      "cell_type": "code",
      "source": [
        "# Write a function that prints out negative values\n",
        "negatives = lambda num: [i for i in num if i > 0]\n",
        "\n",
        "negatives([12, -2, 3, -6, -8, 9, 10])"
      ],
      "metadata": {
        "colab": {
          "base_uri": "https://localhost:8080/"
        },
        "id": "908gQdKAIy3Y",
        "outputId": "397fd8f2-299f-4fe3-f8dd-fd4558eb7063"
      },
      "execution_count": null,
      "outputs": [
        {
          "output_type": "execute_result",
          "data": {
            "text/plain": [
              "[12, 3, 9, 10]"
            ]
          },
          "metadata": {},
          "execution_count": 12
        }
      ]
    },
    {
      "cell_type": "code",
      "source": [
        "# write a lambda function that finds the sum of squares of 3 numbers\n",
        "sum_of_squares = lambda x,y,z: x**2 + y**2 + z**2\n",
        "\n",
        "print(sum_of_squares(2,4,6))"
      ],
      "metadata": {
        "colab": {
          "base_uri": "https://localhost:8080/"
        },
        "id": "IYAtsi69J_yj",
        "outputId": "271f5a42-ae02-43a5-cdd9-dfdaf0889aec"
      },
      "execution_count": null,
      "outputs": [
        {
          "output_type": "stream",
          "name": "stdout",
          "text": [
            "56\n"
          ]
        }
      ]
    },
    {
      "cell_type": "code",
      "source": [
        "sum_of_squares = lambda x,y,z: sum([x**2 , y**2 , z**2])\n",
        "\n",
        "print(sum_of_squares(2,4,6))"
      ],
      "metadata": {
        "colab": {
          "base_uri": "https://localhost:8080/"
        },
        "id": "-ZtHx6eCLue9",
        "outputId": "d95ef670-3ccb-4ec7-e9da-6a8ab4604280"
      },
      "execution_count": null,
      "outputs": [
        {
          "output_type": "stream",
          "name": "stdout",
          "text": [
            "56\n"
          ]
        }
      ]
    },
    {
      "cell_type": "code",
      "source": [
        "# write a lambda function that finds the sum of all the even numbers in a list\n",
        "even_num = lambda x: sum(i for i in x if i % 2 == 0)\n",
        "\n",
        "even_num([3, 4, 5, 6, 7, 8, 9, 1, 12])"
      ],
      "metadata": {
        "colab": {
          "base_uri": "https://localhost:8080/"
        },
        "id": "zNTl9druPg-h",
        "outputId": "d3ba659b-a364-4763-8300-9635e6ef651b"
      },
      "execution_count": null,
      "outputs": [
        {
          "output_type": "execute_result",
          "data": {
            "text/plain": [
              "30"
            ]
          },
          "metadata": {},
          "execution_count": 16
        }
      ]
    },
    {
      "cell_type": "markdown",
      "source": [
        "Exercise"
      ],
      "metadata": {
        "id": "vLGZ3aSanGMX"
      }
    },
    {
      "cell_type": "code",
      "source": [
        "# 1. Write a Python function that takes a number as a parameter and checks whether the number is even or odd.\n",
        "def even_odd(num):\n",
        "  if num % 2 == 0:\n",
        "    return f'{num} is an even number'\n",
        "  else:\n",
        "    return f'{num} is an odd number'\n",
        "\n",
        "for number in [1, 2, 3, 4, 5, 6, 7, 8, 9]:\n",
        "  print(even_odd(number))"
      ],
      "metadata": {
        "collapsed": true,
        "colab": {
          "base_uri": "https://localhost:8080/"
        },
        "id": "u5Vt4nt-S469",
        "outputId": "8b69c909-dc46-408d-bb11-39998d67b705"
      },
      "execution_count": null,
      "outputs": [
        {
          "output_type": "stream",
          "name": "stdout",
          "text": [
            "1 is an odd number\n",
            "2 is an even number\n",
            "3 is an odd number\n",
            "4 is an even number\n",
            "5 is an odd number\n",
            "6 is an even number\n",
            "7 is an odd number\n",
            "8 is an even number\n",
            "9 is an odd number\n"
          ]
        }
      ]
    },
    {
      "cell_type": "code",
      "source": [
        "# 2. Write a function that adds suffix 'ly' to every word\n",
        "suffix = lambda word: word + 'ly'\n",
        "\n"
      ],
      "metadata": {
        "id": "X7K70-91S_Ld"
      },
      "execution_count": null,
      "outputs": []
    },
    {
      "cell_type": "code",
      "source": [
        "suffix('sad')"
      ],
      "metadata": {
        "colab": {
          "base_uri": "https://localhost:8080/",
          "height": 35
        },
        "id": "_B1fj57mTdDf",
        "outputId": "853a9f09-0fbc-46ad-8862-2a1098206dc3"
      },
      "execution_count": null,
      "outputs": [
        {
          "output_type": "execute_result",
          "data": {
            "text/plain": [
              "'sadly'"
            ],
            "application/vnd.google.colaboratory.intrinsic+json": {
              "type": "string"
            }
          },
          "metadata": {},
          "execution_count": 24
        }
      ]
    },
    {
      "cell_type": "code",
      "source": [
        "# 3. Write a Python function that removes the even numbers from a list of numbers [2,4,33,5,77,8,66,34,55]\n",
        "def remove_even_numbers(numbers):\n",
        "   odd_numbers = []\n",
        "   for num in numbers:\n",
        "        if num % 2 != 0:\n",
        "          odd_numbers.append(num)\n",
        "   return odd_numbers\n",
        "\n",
        "numbers = [2, 4, 33, 5, 77, 8, 66, 4, 55]\n",
        "result = remove_even_numbers(numbers)\n",
        "print(result)"
      ],
      "metadata": {
        "colab": {
          "base_uri": "https://localhost:8080/"
        },
        "id": "AdC3IIO6Tiu0",
        "outputId": "eb1977f3-1fc6-4225-ee20-76e7e7b38b6a"
      },
      "execution_count": null,
      "outputs": [
        {
          "output_type": "stream",
          "name": "stdout",
          "text": [
            "[33, 5, 77, 55]\n"
          ]
        }
      ]
    },
    {
      "cell_type": "code",
      "source": [
        "# 4. Write a python function that calculates the grade of students in a class (below 40 = fail, between 40 and 60 = pass, above 70 = excellent)\n",
        "def check_grade(grade):\n",
        "    if grade <=  40:\n",
        "        return  'fail'\n",
        "    elif grade >= 40 and grade <= 60:\n",
        "        return 'pass'\n",
        "    elif grade >= 70:\n",
        "        return  'excellent'\n",
        "    else:\n",
        "       return f'invalid input'"
      ],
      "metadata": {
        "id": "cd_lPJeXX3nm"
      },
      "execution_count": null,
      "outputs": []
    },
    {
      "cell_type": "code",
      "source": [
        "check_grade(60)"
      ],
      "metadata": {
        "colab": {
          "base_uri": "https://localhost:8080/",
          "height": 35
        },
        "id": "xDikQ0s1bTEm",
        "outputId": "1f5df823-3112-4cdf-ecf9-744ff64478da"
      },
      "execution_count": null,
      "outputs": [
        {
          "output_type": "execute_result",
          "data": {
            "text/plain": [
              "'pass'"
            ],
            "application/vnd.google.colaboratory.intrinsic+json": {
              "type": "string"
            }
          },
          "metadata": {},
          "execution_count": 61
        }
      ]
    },
    {
      "cell_type": "code",
      "source": [
        "# 5. Write a python function that asks user for age input, and classifies them according to: [0 - 10 = toddler, 11 - 20 = teenager, 20 - 30 = young adult, above 30 = adults]\n",
        "def age_classification(age):\n",
        "  if age >= 0 and age <= 10:\n",
        "    return 'toddler'\n",
        "  elif age >= 11 and age <= 20:\n",
        "    return 'teenager'\n",
        "  elif age >= 21 and age <= 30:\n",
        "    return 'young adult'\n",
        "  else:\n",
        "    return 'adults'\n"
      ],
      "metadata": {
        "id": "iwluobdMb7sm"
      },
      "execution_count": null,
      "outputs": []
    },
    {
      "cell_type": "code",
      "source": [
        "age_classification(10)"
      ],
      "metadata": {
        "colab": {
          "base_uri": "https://localhost:8080/",
          "height": 35
        },
        "id": "OVNfZf6OcmA_",
        "outputId": "9849f1bc-b8c3-4f88-defa-096a8c52af0d"
      },
      "execution_count": null,
      "outputs": [
        {
          "output_type": "execute_result",
          "data": {
            "text/plain": [
              "'toddler'"
            ],
            "application/vnd.google.colaboratory.intrinsic+json": {
              "type": "string"
            }
          },
          "metadata": {},
          "execution_count": 64
        }
      ]
    },
    {
      "cell_type": "code",
      "source": [
        "# 6. Write a python function that multiplies all even numbers by 10, and deducts 20 from all odds numbers in the list[33,56,77,89,45,88,90,22,45,44,66,88,64,33,35]\n",
        "\n",
        "def list_of_numbers (numbers):\n",
        "    list_numbers = []\n",
        "    for num in numbers:\n",
        "        if num % 2 == 0:\n",
        "            result = num * 10\n",
        "            list_numbers.append(f'{result} is an even number')\n",
        "        else:\n",
        "            result = num - 20\n",
        "            list_numbers.append(f'{result} is an odd number')\n",
        "\n",
        "    return list_numbers\n",
        "\n",
        "# Input list\n",
        "numbers = [33, 56, 77, 89, 45, 88, 90, 22, 45, 44, 66, 88, 64, 33, 35]\n",
        "\n",
        "# Print the result of the function\n",
        "print(list_of_numbers(numbers))\n"
      ],
      "metadata": {
        "colab": {
          "base_uri": "https://localhost:8080/"
        },
        "id": "dWcngt_znQ3M",
        "outputId": "70530429-4228-4e52-df62-c53191dbefbc"
      },
      "execution_count": null,
      "outputs": [
        {
          "output_type": "stream",
          "name": "stdout",
          "text": [
            "['13 is an odd number', '560 is an even number', '57 is an odd number', '69 is an odd number', '25 is an odd number', '880 is an even number', '900 is an even number', '220 is an even number', '25 is an odd number', '440 is an even number', '660 is an even number', '880 is an even number', '640 is an even number', '13 is an odd number', '15 is an odd number']\n"
          ]
        }
      ]
    },
    {
      "cell_type": "code",
      "source": [
        "def greetings()\n",
        "   print(\"hello there\")\n",
        "greetings()"
      ],
      "metadata": {
        "colab": {
          "base_uri": "https://localhost:8080/",
          "height": 106
        },
        "id": "Y2Uqu8OOG4Oy",
        "outputId": "df2ef593-a79b-492c-e17c-5e678660e7c6"
      },
      "execution_count": null,
      "outputs": [
        {
          "output_type": "error",
          "ename": "SyntaxError",
          "evalue": "expected ':' (<ipython-input-1-7d5580df1abd>, line 1)",
          "traceback": [
            "\u001b[0;36m  File \u001b[0;32m\"<ipython-input-1-7d5580df1abd>\"\u001b[0;36m, line \u001b[0;32m1\u001b[0m\n\u001b[0;31m    def greetings()\u001b[0m\n\u001b[0m                   ^\u001b[0m\n\u001b[0;31mSyntaxError\u001b[0m\u001b[0;31m:\u001b[0m expected ':'\n"
          ]
        }
      ]
    }
  ]
}