{
  "nbformat": 4,
  "nbformat_minor": 0,
  "metadata": {
    "colab": {
      "provenance": [],
      "authorship_tag": "ABX9TyM0UAg4NXbSplRALjHRSla4",
      "include_colab_link": true
    },
    "kernelspec": {
      "name": "python3",
      "display_name": "Python 3"
    },
    "language_info": {
      "name": "python"
    }
  },
  "cells": [
    {
      "cell_type": "markdown",
      "metadata": {
        "id": "view-in-github",
        "colab_type": "text"
      },
      "source": [
        "<a href=\"https://colab.research.google.com/github/florise8/MY_FIRST_PYTHON/blob/main/Data_Structure_on_Python.ipynb\" target=\"_parent\"><img src=\"https://colab.research.google.com/assets/colab-badge.svg\" alt=\"Open In Colab\"/></a>"
      ]
    },
    {
      "cell_type": "markdown",
      "source": [
        "DATA STRUCTURE & Types of Bracket Used:\n",
        "* List [ ]\n",
        "* Dictionary { }\n",
        "* Tuple ( )\n",
        "* Set { }"
      ],
      "metadata": {
        "id": "It10Ppn7ISkB"
      }
    },
    {
      "cell_type": "code",
      "source": [
        "# Example of list\n",
        "# List of Integers\n",
        "my_list = [2, 4, 6, 8, 10]\n",
        "my_list\n"
      ],
      "metadata": {
        "colab": {
          "base_uri": "https://localhost:8080/"
        },
        "id": "xpOkgV8jIRg4",
        "outputId": "1ced2ee4-a2d0-4d6a-db05-cce5edf245e6"
      },
      "execution_count": null,
      "outputs": [
        {
          "output_type": "execute_result",
          "data": {
            "text/plain": [
              "[2, 4, 6, 8, 10]"
            ]
          },
          "metadata": {},
          "execution_count": 5
        }
      ]
    },
    {
      "cell_type": "code",
      "source": [
        "# Example of list of strings\n",
        "my_list = [\"apple\", \"banana\", \"cherry\", \"date\"]\n",
        "my_list"
      ],
      "metadata": {
        "colab": {
          "base_uri": "https://localhost:8080/"
        },
        "id": "tsBGObqAJD1s",
        "outputId": "01b9c2ed-76bd-4b55-dd07-fbcb815acbec"
      },
      "execution_count": null,
      "outputs": [
        {
          "output_type": "execute_result",
          "data": {
            "text/plain": [
              "['apple', 'banana', 'cherry', 'date']"
            ]
          },
          "metadata": {},
          "execution_count": 6
        }
      ]
    },
    {
      "cell_type": "code",
      "source": [
        "# Example of list mixed with integer and string\n",
        "my_list = [11, \"Apple\", 250, \"Banana\", 3.4, True]\n",
        "my_list"
      ],
      "metadata": {
        "colab": {
          "base_uri": "https://localhost:8080/"
        },
        "id": "aGXpifG4JQOT",
        "outputId": "46807953-506b-42c8-b6d9-2ff476bc40cd"
      },
      "execution_count": null,
      "outputs": [
        {
          "output_type": "execute_result",
          "data": {
            "text/plain": [
              "[11, 'Apple', 250, 'Banana', 3.4, True]"
            ]
          },
          "metadata": {},
          "execution_count": 10
        }
      ]
    },
    {
      "cell_type": "code",
      "source": [
        "# Class work\n",
        "my_list = ['Python', 'Java', 'SQL', 'R', 'C++', 'PHP', 'html']\n",
        "#index position 3\n",
        "my_list[3]"
      ],
      "metadata": {
        "colab": {
          "base_uri": "https://localhost:8080/",
          "height": 35
        },
        "id": "OS8et0bFKOQ0",
        "outputId": "a07a4152-a8ad-458e-8dad-ec91849fc04e"
      },
      "execution_count": null,
      "outputs": [
        {
          "output_type": "execute_result",
          "data": {
            "text/plain": [
              "'R'"
            ],
            "application/vnd.google.colaboratory.intrinsic+json": {
              "type": "string"
            }
          },
          "metadata": {},
          "execution_count": 16
        }
      ]
    },
    {
      "cell_type": "code",
      "source": [
        "#index position 0\n",
        "my_list = ['Python', 'Java', 'SQL', 'R', 'C++', 'PHP', 'html']\n",
        "my_list[0]\n"
      ],
      "metadata": {
        "colab": {
          "base_uri": "https://localhost:8080/",
          "height": 35
        },
        "id": "ts1VdWIbL4Fe",
        "outputId": "56f895c8-7ef3-473d-804d-ae4b04d89dc4"
      },
      "execution_count": null,
      "outputs": [
        {
          "output_type": "execute_result",
          "data": {
            "text/plain": [
              "'Python'"
            ],
            "application/vnd.google.colaboratory.intrinsic+json": {
              "type": "string"
            }
          },
          "metadata": {},
          "execution_count": 17
        }
      ]
    },
    {
      "cell_type": "code",
      "source": [
        "#index position 1\n",
        "my_list = ['Python', 'Java', 'SQL', 'R', 'C++', 'PHP', 'html']\n",
        "my_list[1]"
      ],
      "metadata": {
        "colab": {
          "base_uri": "https://localhost:8080/",
          "height": 35
        },
        "id": "Nh2nlgCgMW0p",
        "outputId": "a53b92dc-4c7c-4b9a-b87a-d6ddf0dabe9e"
      },
      "execution_count": null,
      "outputs": [
        {
          "output_type": "execute_result",
          "data": {
            "text/plain": [
              "'Java'"
            ],
            "application/vnd.google.colaboratory.intrinsic+json": {
              "type": "string"
            }
          },
          "metadata": {},
          "execution_count": 18
        }
      ]
    },
    {
      "cell_type": "code",
      "source": [
        "#index position of m in html\n",
        "my_list = ['Python', 'Java', 'SQL', 'R', 'C++', 'PHP', 'html']\n",
        "my_list[6][2]"
      ],
      "metadata": {
        "colab": {
          "base_uri": "https://localhost:8080/",
          "height": 35
        },
        "id": "5jMqxyC8MsYV",
        "outputId": "33bbb7ed-7bc6-4518-aa56-89be3d7ab2b0"
      },
      "execution_count": null,
      "outputs": [
        {
          "output_type": "execute_result",
          "data": {
            "text/plain": [
              "'m'"
            ],
            "application/vnd.google.colaboratory.intrinsic+json": {
              "type": "string"
            }
          },
          "metadata": {},
          "execution_count": 23
        }
      ]
    },
    {
      "cell_type": "code",
      "source": [
        "#index position of R\n",
        "my_list = ['Python', 'Java', 'SQL', 'R', 'C++', 'PHP', 'html']\n",
        "my_list[3]"
      ],
      "metadata": {
        "colab": {
          "base_uri": "https://localhost:8080/",
          "height": 35
        },
        "id": "3ps8imCwNmLh",
        "outputId": "7cb7ac02-12b8-4123-9cf1-19b6f01d3cfb"
      },
      "execution_count": null,
      "outputs": [
        {
          "output_type": "execute_result",
          "data": {
            "text/plain": [
              "'R'"
            ],
            "application/vnd.google.colaboratory.intrinsic+json": {
              "type": "string"
            }
          },
          "metadata": {},
          "execution_count": 24
        }
      ]
    },
    {
      "cell_type": "code",
      "source": [
        "#index position of a in Java\n",
        "my_list = ['Python', 'Java', 'SQL', 'R', 'C++', 'PHP', 'html']\n",
        "my_list[1][1]"
      ],
      "metadata": {
        "colab": {
          "base_uri": "https://localhost:8080/",
          "height": 35
        },
        "id": "tKmRqQxLNyeb",
        "outputId": "b94f0d1a-c840-487e-c389-b40b90d33f29"
      },
      "execution_count": null,
      "outputs": [
        {
          "output_type": "execute_result",
          "data": {
            "text/plain": [
              "'a'"
            ],
            "application/vnd.google.colaboratory.intrinsic+json": {
              "type": "string"
            }
          },
          "metadata": {},
          "execution_count": 25
        }
      ]
    },
    {
      "cell_type": "code",
      "source": [
        "my_list = ['Python', 'Java', 'SQL', 'R', 'C++', 'PHP', 'html']\n",
        "my_list[-1][2]"
      ],
      "metadata": {
        "colab": {
          "base_uri": "https://localhost:8080/",
          "height": 35
        },
        "id": "53iRaBKOO6UH",
        "outputId": "b1c1b18e-ebe3-4039-d178-298bf7021139"
      },
      "execution_count": null,
      "outputs": [
        {
          "output_type": "execute_result",
          "data": {
            "text/plain": [
              "'m'"
            ],
            "application/vnd.google.colaboratory.intrinsic+json": {
              "type": "string"
            }
          },
          "metadata": {},
          "execution_count": 27
        }
      ]
    },
    {
      "cell_type": "code",
      "source": [],
      "metadata": {
        "id": "mK9h-szrPTKV"
      },
      "execution_count": null,
      "outputs": []
    },
    {
      "cell_type": "markdown",
      "source": [
        "DATA STRUCTURE ( LIST ) A list is a collection of ordered and changeable items\n"
      ],
      "metadata": {
        "id": "FCy81vWf3-RR"
      }
    },
    {
      "cell_type": "code",
      "source": [
        "my_list = [] # empty list\n",
        "\n",
        "my_list = [1, 2, 3] # list of integers\n",
        "\n",
        "my_list = [1, \"Hello\", 3.4]  # list with mixed datatypes\n",
        "\n",
        "my_list = [\"python\", \"java\", \"SQL\", \"C++\"] # list of strings"
      ],
      "metadata": {
        "id": "n9GMsxh558s1"
      },
      "execution_count": null,
      "outputs": []
    },
    {
      "cell_type": "code",
      "source": [
        "mylist2 = ['Mary', 'Ogechi', 'Kufre', 'Florence', 'Grace', 'David']\n",
        "mylist2"
      ],
      "metadata": {
        "colab": {
          "base_uri": "https://localhost:8080/"
        },
        "id": "Bp6PtWbjP-Kq",
        "outputId": "c35937e7-a190-42ff-fd85-509abe736c03"
      },
      "execution_count": null,
      "outputs": [
        {
          "output_type": "execute_result",
          "data": {
            "text/plain": [
              "['Mary', 'Ogechi', 'Kufre', 'Florence', 'Grace', 'David']"
            ]
          },
          "metadata": {},
          "execution_count": 38
        }
      ]
    },
    {
      "cell_type": "code",
      "source": [
        "# Adding Rejoice to my list\n",
        "mylist2.append('Rejoice')\n",
        "\n",
        "mylist2"
      ],
      "metadata": {
        "colab": {
          "base_uri": "https://localhost:8080/"
        },
        "id": "HYfD5K9FQmt3",
        "outputId": "cddae73b-8a33-47b0-df39-224518711a4d"
      },
      "execution_count": null,
      "outputs": [
        {
          "output_type": "execute_result",
          "data": {
            "text/plain": [
              "['Mary', 'Ogechi', 'Kufre', 'Florence', 'Grace', 'David', 'Rejoice']"
            ]
          },
          "metadata": {},
          "execution_count": 39
        }
      ]
    },
    {
      "cell_type": "markdown",
      "source": [
        "Remove Operation on My List"
      ],
      "metadata": {
        "id": "Fygveda8dhSt"
      }
    },
    {
      "cell_type": "code",
      "source": [
        "# Removing an item from my list\n",
        "mylist2.remove('Rejoice')\n",
        "\n",
        "mylist2"
      ],
      "metadata": {
        "colab": {
          "base_uri": "https://localhost:8080/"
        },
        "id": "8QcJP46ZRcci",
        "outputId": "aa6d4aa8-f272-4fcc-efd3-21728ebaf4c2"
      },
      "execution_count": null,
      "outputs": [
        {
          "output_type": "execute_result",
          "data": {
            "text/plain": [
              "['Mary', 'Ogechi', 'Kufre', 'Florence', 'Grace', 'David']"
            ]
          },
          "metadata": {},
          "execution_count": 40
        }
      ]
    },
    {
      "cell_type": "markdown",
      "source": [
        "Updating On My List"
      ],
      "metadata": {
        "id": "CAw3ypmIdnRT"
      }
    },
    {
      "cell_type": "code",
      "source": [
        "# Updating an item in my list\n",
        "mylist2[1]= 'Rejoice'\n",
        "mylist2"
      ],
      "metadata": {
        "colab": {
          "base_uri": "https://localhost:8080/"
        },
        "id": "johQjhCfS_j0",
        "outputId": "45a4937e-9ffb-4b36-a2bf-8eb9aa10953d"
      },
      "execution_count": null,
      "outputs": [
        {
          "output_type": "execute_result",
          "data": {
            "text/plain": [
              "['Mary', 'Rejoice', 'Kufre', 'Florence', 'Grace', 'David']"
            ]
          },
          "metadata": {},
          "execution_count": 41
        }
      ]
    },
    {
      "cell_type": "code",
      "source": [
        "# Changing David - spencer\n",
        "mylist2[5]= 'Mr. Spencer'\n",
        "\n",
        "mylist2"
      ],
      "metadata": {
        "colab": {
          "base_uri": "https://localhost:8080/"
        },
        "id": "XDDu3pnATqk8",
        "outputId": "0fbb021e-161b-4e53-b0dd-f4b29b8b275d"
      },
      "execution_count": null,
      "outputs": [
        {
          "output_type": "execute_result",
          "data": {
            "text/plain": [
              "['Mary', 'Rejoice', 'Kufre', 'Florence', 'Grace', 'Mr. Spencer']"
            ]
          },
          "metadata": {},
          "execution_count": 44
        }
      ]
    },
    {
      "cell_type": "markdown",
      "source": [
        "Returning a value back to a List"
      ],
      "metadata": {
        "id": "8iTTH5C6d6Q9"
      }
    },
    {
      "cell_type": "code",
      "source": [
        "# Returning Ogechi back to initial position\n",
        "mylist2.insert(1,'Ogechi')\n",
        "mylist2"
      ],
      "metadata": {
        "colab": {
          "base_uri": "https://localhost:8080/"
        },
        "id": "-pXlDCWkUivd",
        "outputId": "43f25b25-139f-4cfe-ddf3-adf0584d3f2d"
      },
      "execution_count": null,
      "outputs": [
        {
          "output_type": "execute_result",
          "data": {
            "text/plain": [
              "['Mary', 'Ogechi', 'Rejoice', 'Kufre', 'Florence', 'Grace', 'Mr. Spencer']"
            ]
          },
          "metadata": {},
          "execution_count": 45
        }
      ]
    },
    {
      "cell_type": "code",
      "source": [
        "# Returning Ogechi back to initial position - Method 2\n",
        "mylist2[1] = 'Ogechi'\n",
        "mylist2"
      ],
      "metadata": {
        "colab": {
          "base_uri": "https://localhost:8080/"
        },
        "id": "dFX2NKH4VkMD",
        "outputId": "8adc843a-54db-4679-c751-fbed7101cb67"
      },
      "execution_count": null,
      "outputs": [
        {
          "output_type": "execute_result",
          "data": {
            "text/plain": [
              "['Mary', 'Ogechi', 'Rejoice', 'Kufre', 'Florence', 'Grace', 'Mr. Spencer']"
            ]
          },
          "metadata": {},
          "execution_count": 46
        }
      ]
    },
    {
      "cell_type": "code",
      "source": [
        "# Adding David to the list\n",
        "mylist2.append('David')\n",
        "mylist2"
      ],
      "metadata": {
        "colab": {
          "base_uri": "https://localhost:8080/"
        },
        "collapsed": true,
        "id": "47GHRknWW6Kj",
        "outputId": "733e1b93-e4ee-4b4f-c662-ba9dd39add7f"
      },
      "execution_count": null,
      "outputs": [
        {
          "output_type": "execute_result",
          "data": {
            "text/plain": [
              "['Mary',\n",
              " 'Ogechi',\n",
              " 'Lola',\n",
              " 'Rejoice',\n",
              " 'Kufre',\n",
              " 'Florence',\n",
              " 'Grace',\n",
              " 'Mr. Spencer',\n",
              " 'David']"
            ]
          },
          "metadata": {},
          "execution_count": 48
        }
      ]
    },
    {
      "cell_type": "markdown",
      "source": [
        "Adding Excercises"
      ],
      "metadata": {
        "id": "mn1rYD_GaXJT"
      }
    },
    {
      "cell_type": "code",
      "source": [
        "# Adding Shreddergang after Ogechi\n",
        "mylist2 = ['Mary', 'Ogechi', 'Kufre', 'Florence', 'Grace', 'David']\n",
        "mylist2.insert(2, 'Shreddergang')\n",
        "mylist2\n"
      ],
      "metadata": {
        "colab": {
          "base_uri": "https://localhost:8080/"
        },
        "id": "zXMTF3VKWoHT",
        "outputId": "ed7593e1-c896-404e-efdc-f5d0e376e477"
      },
      "execution_count": null,
      "outputs": [
        {
          "output_type": "execute_result",
          "data": {
            "text/plain": [
              "['Mary', 'Ogechi', 'Shreddergang', 'Kufre', 'Florence', 'Grace', 'David']"
            ]
          },
          "metadata": {},
          "execution_count": 75
        }
      ]
    },
    {
      "cell_type": "code",
      "source": [
        "# Adding Rejoice to the list\n",
        "mylist2.append('Rejoice')\n",
        "mylist2"
      ],
      "metadata": {
        "colab": {
          "base_uri": "https://localhost:8080/"
        },
        "id": "6ASvAzTXbQXj",
        "outputId": "846a7994-c814-40b2-e475-953931be9dc8"
      },
      "execution_count": null,
      "outputs": [
        {
          "output_type": "execute_result",
          "data": {
            "text/plain": [
              "['Mary',\n",
              " 'Ogechi',\n",
              " 'Shreddergang',\n",
              " 'Kufre',\n",
              " 'Florence',\n",
              " 'Grace',\n",
              " 'David',\n",
              " 'Rejoice']"
            ]
          },
          "metadata": {},
          "execution_count": 76
        }
      ]
    },
    {
      "cell_type": "code",
      "source": [
        "# Adding lola After Mary\n",
        "mylist2.insert(1, 'Lola')\n",
        "mylist2"
      ],
      "metadata": {
        "colab": {
          "base_uri": "https://localhost:8080/"
        },
        "id": "RHn6kvZMa9uH",
        "outputId": "421d0220-8124-4c2b-a3ab-75e0c2dab7f4"
      },
      "execution_count": null,
      "outputs": [
        {
          "output_type": "execute_result",
          "data": {
            "text/plain": [
              "['Mary',\n",
              " 'Lola',\n",
              " 'Ogechi',\n",
              " 'Shreddergang',\n",
              " 'Kufre',\n",
              " 'Florence',\n",
              " 'Grace',\n",
              " 'David',\n",
              " 'Rejoice']"
            ]
          },
          "metadata": {},
          "execution_count": 77
        }
      ]
    },
    {
      "cell_type": "code",
      "source": [
        "# Adding Nnah after Kufre\n",
        "mylist2.insert(5, 'Nnah')\n",
        "mylist2"
      ],
      "metadata": {
        "colab": {
          "base_uri": "https://localhost:8080/"
        },
        "collapsed": true,
        "id": "pK9bm06VXQzX",
        "outputId": "17de7f79-3084-4245-9b60-0d9b9a56fc13"
      },
      "execution_count": null,
      "outputs": [
        {
          "output_type": "execute_result",
          "data": {
            "text/plain": [
              "['Mary',\n",
              " 'Lola',\n",
              " 'Ogechi',\n",
              " 'Shreddergang',\n",
              " 'Kufre',\n",
              " 'Nnah',\n",
              " 'Florence',\n",
              " 'Grace',\n",
              " 'David',\n",
              " 'Rejoice']"
            ]
          },
          "metadata": {},
          "execution_count": 78
        }
      ]
    },
    {
      "cell_type": "code",
      "source": [
        "# Adding Dube after Florence\n",
        "mylist2.insert(7, 'Dube')\n",
        "mylist2"
      ],
      "metadata": {
        "colab": {
          "base_uri": "https://localhost:8080/"
        },
        "collapsed": true,
        "id": "qAjGGPL4YtPO",
        "outputId": "09dedfb0-3210-4374-bced-c365068a4cf5"
      },
      "execution_count": null,
      "outputs": [
        {
          "output_type": "execute_result",
          "data": {
            "text/plain": [
              "['Mary',\n",
              " 'Lola',\n",
              " 'Ogechi',\n",
              " 'Shreddergang',\n",
              " 'Kufre',\n",
              " 'Nnah',\n",
              " 'Florence',\n",
              " 'Dube',\n",
              " 'Grace',\n",
              " 'David',\n",
              " 'Rejoice']"
            ]
          },
          "metadata": {},
          "execution_count": 79
        }
      ]
    },
    {
      "cell_type": "code",
      "source": [
        "# Adding Ifeyinwa after Grace\n",
        "mylist2.insert(9, 'Ifeyinwa')\n",
        "mylist2"
      ],
      "metadata": {
        "colab": {
          "base_uri": "https://localhost:8080/"
        },
        "collapsed": true,
        "id": "1mwpi7vDZngj",
        "outputId": "e4b2c212-7a66-4061-9860-5281af52c6b4"
      },
      "execution_count": null,
      "outputs": [
        {
          "output_type": "execute_result",
          "data": {
            "text/plain": [
              "['Mary',\n",
              " 'Lola',\n",
              " 'Ogechi',\n",
              " 'Shreddergang',\n",
              " 'Kufre',\n",
              " 'Nnah',\n",
              " 'Florence',\n",
              " 'Dube',\n",
              " 'Grace',\n",
              " 'Ifeyinwa',\n",
              " 'David',\n",
              " 'Rejoice']"
            ]
          },
          "metadata": {},
          "execution_count": 80
        }
      ]
    },
    {
      "cell_type": "code",
      "source": [
        "# Adding Onyeabo after David\n",
        "mylist2.insert(11, 'Onyeabo')\n",
        "mylist2"
      ],
      "metadata": {
        "colab": {
          "base_uri": "https://localhost:8080/"
        },
        "id": "alMsE4fbZ3G5",
        "outputId": "ff44e896-10e1-4ca3-f370-e43f567aefc8"
      },
      "execution_count": null,
      "outputs": [
        {
          "output_type": "execute_result",
          "data": {
            "text/plain": [
              "['Mary',\n",
              " 'Lola',\n",
              " 'Ogechi',\n",
              " 'Shreddergang',\n",
              " 'Kufre',\n",
              " 'Nnah',\n",
              " 'Florence',\n",
              " 'Dube',\n",
              " 'Grace',\n",
              " 'Ifeyinwa',\n",
              " 'David',\n",
              " 'Onyeabo',\n",
              " 'Rejoice']"
            ]
          },
          "metadata": {},
          "execution_count": 81
        }
      ]
    },
    {
      "cell_type": "code",
      "source": [
        "# Adding Eze after Rejoice\n",
        "mylist2.insert(13, 'Eze')\n",
        "\n",
        "mylist2"
      ],
      "metadata": {
        "colab": {
          "base_uri": "https://localhost:8080/"
        },
        "id": "LUsNLGeLatZ1",
        "outputId": "c547624b-175d-4bb7-d2b1-8ecfc745bcd7"
      },
      "execution_count": null,
      "outputs": [
        {
          "output_type": "execute_result",
          "data": {
            "text/plain": [
              "['Mary',\n",
              " 'Lola',\n",
              " 'Ogechi',\n",
              " 'Shreddergang',\n",
              " 'Kufre',\n",
              " 'Nnah',\n",
              " 'Florence',\n",
              " 'Dube',\n",
              " 'Grace',\n",
              " 'Ifeyinwa',\n",
              " 'David',\n",
              " 'Onyeabo',\n",
              " 'Rejoice',\n",
              " 'Eze']"
            ]
          },
          "metadata": {},
          "execution_count": 82
        }
      ]
    },
    {
      "cell_type": "markdown",
      "source": [
        "Delete Operation  on my List"
      ],
      "metadata": {
        "id": "WVPnlCloc8Io"
      }
    },
    {
      "cell_type": "code",
      "source": [
        "mylist2 = ['Mary', 'Ogechi', 'Kufre', 'Florence', 'Grace', 'David']\n",
        "del mylist2 [0]\n",
        "mylist2"
      ],
      "metadata": {
        "colab": {
          "base_uri": "https://localhost:8080/"
        },
        "id": "b0i58-9jc_Dz",
        "outputId": "b69878e7-9fef-4909-c3ad-7b883778df3e"
      },
      "execution_count": null,
      "outputs": [
        {
          "output_type": "execute_result",
          "data": {
            "text/plain": [
              "['Ogechi', 'Kufre', 'Florence', 'Grace', 'David']"
            ]
          },
          "metadata": {},
          "execution_count": 86
        }
      ]
    },
    {
      "cell_type": "markdown",
      "source": [
        "Sorting on my list"
      ],
      "metadata": {
        "id": "5kUEQlH5eQr8"
      }
    },
    {
      "cell_type": "code",
      "source": [
        "# Sorting in Asending Order\n",
        "mylist2 = ['Mary', 'Ogechi', 'Kufre', 'Florence', 'Grace', 'David']\n",
        "\n",
        "mylist2.sort()\n",
        "\n",
        "mylist2"
      ],
      "metadata": {
        "colab": {
          "base_uri": "https://localhost:8080/"
        },
        "id": "CehbwkqBeP8l",
        "outputId": "0f56be3c-10fa-4c1c-d027-f897632c5dfa"
      },
      "execution_count": null,
      "outputs": [
        {
          "output_type": "execute_result",
          "data": {
            "text/plain": [
              "['David', 'Florence', 'Grace', 'Kufre', 'Mary', 'Ogechi']"
            ]
          },
          "metadata": {},
          "execution_count": 87
        }
      ]
    },
    {
      "cell_type": "code",
      "source": [
        "# Sorting in Descending Order\n",
        "mylist2 = ['Mary', 'Ogechi', 'Kufre', 'Florence', 'Grace', 'David']\n",
        "\n",
        "mylist2.sort(reverse=True)\n",
        "\n",
        "mylist2"
      ],
      "metadata": {
        "colab": {
          "base_uri": "https://localhost:8080/"
        },
        "id": "-EyaKzb2eeG9",
        "outputId": "bf608d0f-7163-4609-940d-df9613581d72"
      },
      "execution_count": null,
      "outputs": [
        {
          "output_type": "execute_result",
          "data": {
            "text/plain": [
              "['Ogechi', 'Mary', 'Kufre', 'Grace', 'Florence', 'David']"
            ]
          },
          "metadata": {},
          "execution_count": 89
        }
      ]
    },
    {
      "cell_type": "markdown",
      "source": [
        "Mathmatical Opertations"
      ],
      "metadata": {
        "id": "djSZNIs-l7ch"
      }
    },
    {
      "cell_type": "code",
      "source": [
        "Scores = [60, 90, 80,10, 60, 50, 20 ]\n",
        "len(Scores)"
      ],
      "metadata": {
        "colab": {
          "base_uri": "https://localhost:8080/"
        },
        "id": "BSm1bdqPjOJB",
        "outputId": "9f074984-8df2-44fc-883f-0d6fb5df7bcf"
      },
      "execution_count": null,
      "outputs": [
        {
          "output_type": "execute_result",
          "data": {
            "text/plain": [
              "7"
            ]
          },
          "metadata": {},
          "execution_count": 90
        }
      ]
    },
    {
      "cell_type": "code",
      "source": [
        "# Sum Operation\n",
        "Scores = [60, 90, 80,10, 60, 50, 20 ]\n",
        "sum(Scores)"
      ],
      "metadata": {
        "colab": {
          "base_uri": "https://localhost:8080/"
        },
        "id": "4t2UAU35jphG",
        "outputId": "c0891ad5-6f79-4897-be7c-829d8ca7e5b3"
      },
      "execution_count": null,
      "outputs": [
        {
          "output_type": "execute_result",
          "data": {
            "text/plain": [
              "370"
            ]
          },
          "metadata": {},
          "execution_count": 91
        }
      ]
    },
    {
      "cell_type": "code",
      "source": [
        "Scores = [60, 90, 80,10, 60, 50, 20 ]\n",
        "max(Scores) # Max value in Scores"
      ],
      "metadata": {
        "colab": {
          "base_uri": "https://localhost:8080/"
        },
        "id": "S_N6c1LFjw-O",
        "outputId": "c66a2884-2ccf-4e65-bc6c-c7edd0619a81"
      },
      "execution_count": null,
      "outputs": [
        {
          "output_type": "execute_result",
          "data": {
            "text/plain": [
              "90"
            ]
          },
          "metadata": {},
          "execution_count": 94
        }
      ]
    },
    {
      "cell_type": "code",
      "source": [
        "# Minimum Value in scores\n",
        "min(Scores)"
      ],
      "metadata": {
        "colab": {
          "base_uri": "https://localhost:8080/"
        },
        "id": "hn8wIvy4kK-g",
        "outputId": "ecebc94c-c9d0-4a5f-8b83-616a7062e242"
      },
      "execution_count": null,
      "outputs": [
        {
          "output_type": "execute_result",
          "data": {
            "text/plain": [
              "10"
            ]
          },
          "metadata": {},
          "execution_count": 95
        }
      ]
    },
    {
      "cell_type": "markdown",
      "source": [
        "Using Statistics Operation  "
      ],
      "metadata": {
        "id": "9Li1cdanlt8B"
      }
    },
    {
      "cell_type": "code",
      "source": [
        "# Using Statistics to calculate Mean\n",
        "import statistics as stat\n",
        "stat.mean(Scores)\n"
      ],
      "metadata": {
        "colab": {
          "base_uri": "https://localhost:8080/"
        },
        "id": "YHCH9DxDkW6Z",
        "outputId": "4abdb1e6-c458-4e19-e2aa-159a5ed42bed"
      },
      "execution_count": null,
      "outputs": [
        {
          "output_type": "execute_result",
          "data": {
            "text/plain": [
              "52.857142857142854"
            ]
          },
          "metadata": {},
          "execution_count": 98
        }
      ]
    },
    {
      "cell_type": "code",
      "source": [
        "# Using Statistics to calculate Median\n",
        "Scores = [60, 90, 80,10, 60, 50, 20, 20, 40, 30 ]\n",
        "stat.median(Scores)\n"
      ],
      "metadata": {
        "colab": {
          "base_uri": "https://localhost:8080/"
        },
        "id": "92DPS9Ixk1Tt",
        "outputId": "60846d7c-ba23-4707-beed-09bd603bf746"
      },
      "execution_count": null,
      "outputs": [
        {
          "output_type": "execute_result",
          "data": {
            "text/plain": [
              "45.0"
            ]
          },
          "metadata": {},
          "execution_count": 107
        }
      ]
    },
    {
      "cell_type": "code",
      "source": [
        "# Using Statistics to calculate Mode\n",
        "Scores = [60, 90, 80,10, 60, 50, 20, 20, 40, 30 ]\n",
        "import statistics as stat\n",
        "stat.mode(Scores)\n"
      ],
      "metadata": {
        "colab": {
          "base_uri": "https://localhost:8080/"
        },
        "id": "9q7ONX8Vk4_C",
        "outputId": "7399e238-1cf0-4d42-dfa6-d5ea7f4f87cc"
      },
      "execution_count": null,
      "outputs": [
        {
          "output_type": "execute_result",
          "data": {
            "text/plain": [
              "60"
            ]
          },
          "metadata": {},
          "execution_count": 108
        }
      ]
    },
    {
      "cell_type": "code",
      "source": [
        "#Using Statistics to calculate Standard Deviation\n",
        "Scores = [60, 90, 80,10, 60, 50, 20, 20, 40, 30 ]\n",
        "import statistics as stat\n",
        "stat.stdev(Scores)\n"
      ],
      "metadata": {
        "colab": {
          "base_uri": "https://localhost:8080/"
        },
        "id": "acsokohfk8Al",
        "outputId": "81f83993-8ae9-4874-bc59-4e5ec22fec71"
      },
      "execution_count": null,
      "outputs": [
        {
          "output_type": "execute_result",
          "data": {
            "text/plain": [
              "26.74987019698517"
            ]
          },
          "metadata": {},
          "execution_count": 105
        }
      ]
    },
    {
      "cell_type": "code",
      "source": [
        "#Using Statistics to calculate Variance\n",
        "Scores = [60, 90, 80,10, 60, 50, 20, 20, 40, 30 ]\n",
        "import statistics as stat\n",
        "stat.variance(Scores)"
      ],
      "metadata": {
        "colab": {
          "base_uri": "https://localhost:8080/"
        },
        "id": "vjqybJUak-Eb",
        "outputId": "7196d8f2-8c1c-485e-90a7-54b25d5f34e9"
      },
      "execution_count": null,
      "outputs": [
        {
          "output_type": "execute_result",
          "data": {
            "text/plain": [
              "715.5555555555555"
            ]
          },
          "metadata": {},
          "execution_count": 106
        }
      ]
    },
    {
      "cell_type": "markdown",
      "source": [
        "DATA STRUCTURE (TUPLE) A tuple is a collection which is ordered and unchangeable."
      ],
      "metadata": {
        "id": "oPpkmMTQs1xH"
      }
    },
    {
      "cell_type": "code",
      "source": [
        "my_tuple = ('black', 'white', 'red', 'blue', 'green')\n",
        "my_tuple"
      ],
      "metadata": {
        "colab": {
          "base_uri": "https://localhost:8080/"
        },
        "id": "GlJ-1OCBnrRy",
        "outputId": "e24d82ff-bebc-49bb-b2f0-170baeee5f93"
      },
      "execution_count": null,
      "outputs": [
        {
          "output_type": "execute_result",
          "data": {
            "text/plain": [
              "('black', 'white', 'red', 'blue', 'green')"
            ]
          },
          "metadata": {},
          "execution_count": 1
        }
      ]
    },
    {
      "cell_type": "code",
      "source": [
        "mytuple = ('Dan', 10, 10.5, True)\n",
        "mytuple"
      ],
      "metadata": {
        "colab": {
          "base_uri": "https://localhost:8080/"
        },
        "id": "NkB6QFZBpT3X",
        "outputId": "1940e19a-78c5-4222-db19-3539e4e2449e"
      },
      "execution_count": null,
      "outputs": [
        {
          "output_type": "execute_result",
          "data": {
            "text/plain": [
              "('Dan', 10, 10.5, True)"
            ]
          },
          "metadata": {},
          "execution_count": 2
        }
      ]
    },
    {
      "cell_type": "code",
      "source": [
        "my_tuple[2]"
      ],
      "metadata": {
        "colab": {
          "base_uri": "https://localhost:8080/",
          "height": 35
        },
        "id": "0Ff_x7j1pd5O",
        "outputId": "29e1042b-9eea-4741-f280-86a97f26ec42"
      },
      "execution_count": null,
      "outputs": [
        {
          "output_type": "execute_result",
          "data": {
            "text/plain": [
              "'red'"
            ],
            "application/vnd.google.colaboratory.intrinsic+json": {
              "type": "string"
            }
          },
          "metadata": {},
          "execution_count": 3
        }
      ]
    },
    {
      "cell_type": "code",
      "source": [
        "my_tuple[-1]\n"
      ],
      "metadata": {
        "colab": {
          "base_uri": "https://localhost:8080/",
          "height": 35
        },
        "id": "t-Kd9OfOplJY",
        "outputId": "9514c08a-a59a-4a13-d4b5-2c1cc4836389"
      },
      "execution_count": null,
      "outputs": [
        {
          "output_type": "execute_result",
          "data": {
            "text/plain": [
              "'green'"
            ],
            "application/vnd.google.colaboratory.intrinsic+json": {
              "type": "string"
            }
          },
          "metadata": {},
          "execution_count": 4
        }
      ]
    },
    {
      "cell_type": "code",
      "source": [
        "tuple1 = (\"a\", \"b\" , \"c\")\n",
        "\n",
        "tuple2 = (1, 2, 3)\n",
        "\n",
        "tuple3 = tuple1 + tuple2     #join the two tuples by + operator\n",
        "\n",
        "print(tuple3)"
      ],
      "metadata": {
        "colab": {
          "base_uri": "https://localhost:8080/"
        },
        "id": "6uenHSqKAgpg",
        "outputId": "43e3760d-cb21-402e-ba64-9608cc91bd3a"
      },
      "execution_count": null,
      "outputs": [
        {
          "output_type": "stream",
          "name": "stdout",
          "text": [
            "('a', 'b', 'c', 1, 2, 3)\n"
          ]
        }
      ]
    },
    {
      "cell_type": "code",
      "source": [
        "my_tuple = list(my_tuple) #changing mytuple to list\n",
        "\n",
        "my_tuple"
      ],
      "metadata": {
        "colab": {
          "base_uri": "https://localhost:8080/"
        },
        "id": "3ouHyNsxqpqJ",
        "outputId": "fa9135d3-8586-4df2-f8f8-701f8569e4da"
      },
      "execution_count": null,
      "outputs": [
        {
          "output_type": "execute_result",
          "data": {
            "text/plain": [
              "['black', 'white', 'red', 'blue', 'green']"
            ]
          },
          "metadata": {},
          "execution_count": 6
        }
      ]
    },
    {
      "cell_type": "code",
      "source": [
        "tuple2 =list(my_tuple) # adding colour yellow to my Tuple\n",
        "\n",
        "tuple2.append('yellow')\n",
        "\n",
        "my_tuple = tuple(tuple2)\n",
        "\n",
        "my_tuple"
      ],
      "metadata": {
        "colab": {
          "base_uri": "https://localhost:8080/"
        },
        "id": "RLaKVwbeq9_K",
        "outputId": "b0311c2e-12dc-4808-f87a-f6a8cdbd9442"
      },
      "execution_count": null,
      "outputs": [
        {
          "output_type": "execute_result",
          "data": {
            "text/plain": [
              "('black', 'white', 'red', 'blue', 'green', 'yellow')"
            ]
          },
          "metadata": {},
          "execution_count": 8
        }
      ]
    },
    {
      "cell_type": "code",
      "source": [
        "tuple2 =list(my_tuple) # removing colour red\n",
        "\n",
        "tuple2.remove('red')\n",
        "\n",
        "my_tuple = tuple(tuple2)\n",
        "\n",
        "my_tuple"
      ],
      "metadata": {
        "colab": {
          "base_uri": "https://localhost:8080/"
        },
        "id": "OIjdXQVPr6cP",
        "outputId": "3e71a949-2a68-42e4-9326-262ea67b40d2"
      },
      "execution_count": null,
      "outputs": [
        {
          "output_type": "execute_result",
          "data": {
            "text/plain": [
              "('black', 'white', 'blue', 'green', 'yellow')"
            ]
          },
          "metadata": {},
          "execution_count": 9
        }
      ]
    },
    {
      "cell_type": "code",
      "source": [
        "tuple2 =list(my_tuple) # adding colour orange\n",
        "tuple2.insert(2,'orange')\n",
        "my_tuple = tuple(tuple2)\n",
        "my_tuple"
      ],
      "metadata": {
        "colab": {
          "base_uri": "https://localhost:8080/"
        },
        "id": "zHfXipOftR_c",
        "outputId": "f8d2174a-7e5b-40b2-82d2-8f93a2bf5bb3"
      },
      "execution_count": null,
      "outputs": [
        {
          "output_type": "execute_result",
          "data": {
            "text/plain": [
              "('black', 'white', 'orange', 'orange', 'blue', 'green', 'yellow', 'orange')"
            ]
          },
          "metadata": {},
          "execution_count": 13
        }
      ]
    },
    {
      "cell_type": "code",
      "source": [
        "# chanhing from list to tuple\n",
        "my_tuple = list(my_tuple)\n",
        "my_tuple"
      ],
      "metadata": {
        "colab": {
          "base_uri": "https://localhost:8080/"
        },
        "id": "-o6CZ8z7uEkH",
        "outputId": "ce762e3f-89ce-45fe-b156-5c5f0cf579df"
      },
      "execution_count": null,
      "outputs": [
        {
          "output_type": "execute_result",
          "data": {
            "text/plain": [
              "['black', 'white', 'orange', 'orange', 'blue', 'green', 'yellow', 'orange']"
            ]
          },
          "metadata": {},
          "execution_count": 14
        }
      ]
    },
    {
      "cell_type": "markdown",
      "source": [
        "Turple Excercise"
      ],
      "metadata": {
        "id": "bNUUnHynBHr0"
      }
    },
    {
      "cell_type": "code",
      "source": [
        "#Create a tuple called \"person\" that contains a string \"John\" as a name,\n",
        "#25 as an age and \"male\" as a gender.\n",
        "tuple1 = ('John', 25, 'male')\n",
        "tuple1[0]"
      ],
      "metadata": {
        "colab": {
          "base_uri": "https://localhost:8080/",
          "height": 35
        },
        "id": "1cq6vuZhBEU_",
        "outputId": "13e9c412-f161-4593-e388-5d4e6469c1f6"
      },
      "execution_count": null,
      "outputs": [
        {
          "output_type": "execute_result",
          "data": {
            "text/plain": [
              "'John'"
            ],
            "application/vnd.google.colaboratory.intrinsic+json": {
              "type": "string"
            }
          },
          "metadata": {},
          "execution_count": 21
        }
      ]
    },
    {
      "cell_type": "code",
      "source": [
        "# changing age\n",
        "tuple1 = ('John', 25, 'male')\n",
        "list1 = list(tuple1)\n",
        "list1[1] = 30\n",
        "tuple1 = tuple(list1)\n",
        "tuple1"
      ],
      "metadata": {
        "id": "gsHeVx1GCXeN"
      },
      "execution_count": null,
      "outputs": []
    },
    {
      "cell_type": "markdown",
      "source": [
        "DATA STRUCTURE ( SET ) A set is a collection with unordered and unindexed items.\n",
        "\n"
      ],
      "metadata": {
        "id": "EBX7LAbEubX0"
      }
    },
    {
      "cell_type": "code",
      "source": [
        "my_set = {'apple', 'banana', 'cherry', 'date'}\n",
        "print(my_set)\n"
      ],
      "metadata": {
        "colab": {
          "base_uri": "https://localhost:8080/"
        },
        "id": "q-eFFh-Yug74",
        "outputId": "8f12719e-1f4e-4c0b-aa60-2237365551ae"
      },
      "execution_count": null,
      "outputs": [
        {
          "output_type": "stream",
          "name": "stdout",
          "text": [
            "{'cherry', 'apple', 'banana', 'date'}\n"
          ]
        }
      ]
    },
    {
      "cell_type": "code",
      "source": [
        "# adding to sets\n",
        "my_set = {'apple', 'banana', 'cherry', 'date'}\n",
        "my_set.add('orange')\n",
        "my_set.add('Grapes')\n",
        "my_set"
      ],
      "metadata": {
        "colab": {
          "base_uri": "https://localhost:8080/"
        },
        "id": "8cfD6HjXuxEc",
        "outputId": "9d8469fc-6506-4e52-e7e1-2809e16d1657"
      },
      "execution_count": null,
      "outputs": [
        {
          "output_type": "execute_result",
          "data": {
            "text/plain": [
              "{'Grapes', 'apple', 'banana', 'cherry', 'date', 'orange'}"
            ]
          },
          "metadata": {},
          "execution_count": 9
        }
      ]
    },
    {
      "cell_type": "code",
      "source": [
        "# Removing Banana\n",
        "my_set = {'Grapes', 'apple', 'banana', 'cherry', 'date', 'orange'}\n",
        "my_set.remove('banana')\n",
        "my_set"
      ],
      "metadata": {
        "colab": {
          "base_uri": "https://localhost:8080/"
        },
        "id": "XTRBc0-SwWZk",
        "outputId": "aea5da99-c5ac-4dc3-ef35-d2a8f6aae1a1"
      },
      "execution_count": null,
      "outputs": [
        {
          "output_type": "execute_result",
          "data": {
            "text/plain": [
              "{'Grapes', 'apple', 'cherry', 'date', 'orange'}"
            ]
          },
          "metadata": {},
          "execution_count": 10
        }
      ]
    },
    {
      "cell_type": "markdown",
      "source": [
        "DATA STRUCTURE (Dictionary)\n",
        "A dictionary is a collection of unordered, changeable and indexed items."
      ],
      "metadata": {
        "id": "0JjoHIZI49Dy"
      }
    },
    {
      "cell_type": "code",
      "source": [
        "prices = {'apple': 0.40, 'orange': 0.35, 'banana': 0.25}\n",
        "prices"
      ],
      "metadata": {
        "colab": {
          "base_uri": "https://localhost:8080/"
        },
        "id": "L7WGs8cR8CuG",
        "outputId": "e297f4ab-3813-4f09-8c04-46b7f252da67"
      },
      "execution_count": null,
      "outputs": [
        {
          "output_type": "execute_result",
          "data": {
            "text/plain": [
              "{'apple': 0.4, 'orange': 0.35, 'banana': 0.25}"
            ]
          },
          "metadata": {},
          "execution_count": 2
        }
      ]
    },
    {
      "cell_type": "code",
      "source": [
        "prices[\"avocado\"] = 0.50\n",
        "prices\n"
      ],
      "metadata": {
        "colab": {
          "base_uri": "https://localhost:8080/"
        },
        "id": "7q85S4SP8SfC",
        "outputId": "0ca1d690-0440-4f60-87cc-4071f5eaae4d"
      },
      "execution_count": null,
      "outputs": [
        {
          "output_type": "execute_result",
          "data": {
            "text/plain": [
              "{'apple': 0.4, 'orange': 0.35, 'banana': 0.25, 'avocado': 0.5}"
            ]
          },
          "metadata": {},
          "execution_count": 4
        }
      ]
    },
    {
      "cell_type": "code",
      "source": [
        "i = 1\n",
        "while i < 6:\n",
        "  print(i)\n",
        "  i += 1"
      ],
      "metadata": {
        "id": "WGf9aOUKzzYm",
        "colab": {
          "base_uri": "https://localhost:8080/"
        },
        "outputId": "a02e9b93-3633-4ab6-afc5-1e794d485cb1"
      },
      "execution_count": null,
      "outputs": [
        {
          "output_type": "stream",
          "name": "stdout",
          "text": [
            "1\n",
            "2\n",
            "3\n",
            "4\n",
            "5\n"
          ]
        }
      ]
    },
    {
      "cell_type": "code",
      "source": [
        "i = 1\n",
        "while i < 6:\n",
        "  print(i)\n",
        "  if i == 3:\n",
        "    break\n",
        "  i += 1"
      ],
      "metadata": {
        "id": "qakSOKf7lugF",
        "outputId": "92a28147-b5fe-4aee-d9e8-2eec66b5a185",
        "colab": {
          "base_uri": "https://localhost:8080/"
        }
      },
      "execution_count": null,
      "outputs": [
        {
          "output_type": "stream",
          "name": "stdout",
          "text": [
            "1\n",
            "2\n",
            "3\n"
          ]
        }
      ]
    }
  ]
}